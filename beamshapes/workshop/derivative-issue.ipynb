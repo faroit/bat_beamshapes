{
 "cells": [
  {
   "cell_type": "markdown",
   "id": "august-console",
   "metadata": {},
   "source": [
    "This is my attempt at trying to resolve the issue of different results from $P_{n}\\prime cos \\theta$ in eqn. 12.98. \n",
    "\n",
    "![](eqn12-98.png)\n"
   ]
  },
  {
   "cell_type": "markdown",
   "id": "coupled-census",
   "metadata": {},
   "source": [
    "For this solution App II, eqn. 65 is referred to. "
   ]
  },
  {
   "cell_type": "markdown",
   "id": "occasional-toolbox",
   "metadata": {},
   "source": [
    "![](apIIeqn65.png)"
   ]
  },
  {
   "cell_type": "markdown",
   "id": "continuing-special",
   "metadata": {},
   "source": [
    "Applying the appendix II eqn. 65, to 12.98, I'd done the following. "
   ]
  },
  {
   "cell_type": "code",
   "execution_count": 12,
   "id": "tender-assets",
   "metadata": {},
   "outputs": [],
   "source": [
    "\n",
    "\n",
    "from sympy import symbols, diff, legendre, cos, sin, simplify, pi\n",
    "alpha, m,n,z,theta = symbols('alpha m n z theta')\n"
   ]
  },
  {
   "cell_type": "code",
   "execution_count": 3,
   "id": "confused-sudan",
   "metadata": {},
   "outputs": [],
   "source": [
    "Pnz = legendre(n,z) # the 'generic term'"
   ]
  },
  {
   "cell_type": "markdown",
   "id": "handled-disposition",
   "metadata": {},
   "source": [
    "## 1) The 'naive' substitution where $z = cos \\theta$\n",
    "This is what I'd done before, and shown Gaurav.\n"
   ]
  },
  {
   "cell_type": "code",
   "execution_count": 4,
   "id": "specific-impact",
   "metadata": {},
   "outputs": [
    {
     "data": {
      "text/latex": [
       "$\\displaystyle - \\frac{n \\left(\\cos{\\left(\\theta \\right)} P_{n}\\left(\\cos{\\left(\\theta \\right)}\\right) - P_{n - 1}\\left(\\cos{\\left(\\theta \\right)}\\right)\\right)}{\\sin^{2}{\\left(\\theta \\right)}}$"
      ],
      "text/plain": [
       "-n*(cos(theta)*legendre(n, cos(theta)) - legendre(n - 1, cos(theta)))/sin(theta)**2"
      ]
     },
     "execution_count": 4,
     "metadata": {},
     "output_type": "execute_result"
    }
   ],
   "source": [
    "generic_subs = simplify(diff(Pnz, z).subs(z, cos(theta)))\n",
    "generic_subs\n"
   ]
  },
  {
   "cell_type": "markdown",
   "id": "satisfactory-typing",
   "metadata": {},
   "source": [
    "## 2) Do the partial derivative ( $\\frac{\\partial}{\\partial \\theta}P_{n}\\prime cos \\theta$ ) anew with sympy"
   ]
  },
  {
   "cell_type": "code",
   "execution_count": 5,
   "id": "premier-banner",
   "metadata": {},
   "outputs": [
    {
     "data": {
      "text/latex": [
       "$\\displaystyle \\frac{n \\left(\\cos{\\left(\\theta \\right)} P_{n}\\left(\\cos{\\left(\\theta \\right)}\\right) - P_{n - 1}\\left(\\cos{\\left(\\theta \\right)}\\right)\\right)}{\\sin{\\left(\\theta \\right)}}$"
      ],
      "text/plain": [
       "n*(cos(theta)*legendre(n, cos(theta)) - legendre(n - 1, cos(theta)))/sin(theta)"
      ]
     },
     "execution_count": 5,
     "metadata": {},
     "output_type": "execute_result"
    }
   ],
   "source": [
    "Pncostheta = legendre(n, cos(theta))\n",
    "specific_partialdiff = simplify(diff(Pncostheta, theta))\n",
    "specific_partialdiff"
   ]
  },
  {
   "cell_type": "markdown",
   "id": "particular-toilet",
   "metadata": {},
   "source": [
    "This already gives something different!!"
   ]
  },
  {
   "cell_type": "markdown",
   "id": "sound-brunei",
   "metadata": {},
   "source": [
    "## 3) eqn. 12.98 as written in textbook"
   ]
  },
  {
   "cell_type": "code",
   "execution_count": 6,
   "id": "contrary-helen",
   "metadata": {},
   "outputs": [
    {
     "data": {
      "text/latex": [
       "$\\displaystyle - \\frac{n \\left(n + 1\\right) \\left(P_{n - 1}\\left(\\cos{\\left(\\theta \\right)}\\right) - P_{n + 1}\\left(\\cos{\\left(\\theta \\right)}\\right)\\right)}{\\left(2 n + 1\\right) \\sin{\\left(\\theta \\right)}}$"
      ],
      "text/plain": [
       "-n*(n + 1)*(legendre(n - 1, cos(theta)) - legendre(n + 1, cos(theta)))/((2*n + 1)*sin(theta))"
      ]
     },
     "execution_count": 6,
     "metadata": {},
     "output_type": "execute_result"
    }
   ],
   "source": [
    "eqn1298 = - (n*(n+1)/((2*n+1)*sin(theta)))*(legendre(n-1, cos(theta))-legendre(n+1, cos(theta)))\n",
    "eqn1298"
   ]
  },
  {
   "cell_type": "code",
   "execution_count": 7,
   "id": "elegant-anime",
   "metadata": {},
   "outputs": [
    {
     "name": "stdout",
     "output_type": "stream",
     "text": [
      "[-1.50000000000000, -1.50000000000000, 2.12132034355964]\n",
      "[-5.85744699177188, -5.85744699177188, 28.1727639688434]\n",
      "[11.4510073170455, 11.4510073170455, 182.368411710620]\n"
     ]
    }
   ],
   "source": [
    "n_values = [2, 10, 21]\n",
    "theta_values = [pi/4, pi/15, 1.98*pi]\n",
    "\n",
    "for nval, thetaval in zip(n_values, theta_values):\n",
    "    values = {'theta': thetaval,\n",
    "            'n': nval}\n",
    "    # substitute numeric values and see what happens\n",
    "    subst_values = [ eqn1298.subs(values).evalf(), specific_partialdiff.subs(values).evalf(), generic_subs.subs(values).evalf()]\n",
    "    print(subst_values)"
   ]
  },
  {
   "cell_type": "markdown",
   "id": "exciting-sector",
   "metadata": {},
   "source": [
    "The order of numeric values is from the equations defined by cases 3),2) and 1) in that order."
   ]
  },
  {
   "cell_type": "markdown",
   "id": "promotional-double",
   "metadata": {},
   "source": [
    "## The textbook eqn. 12.98 is CORRECT! \n",
    "It was my naive substitution that led to different results somewhere. "
   ]
  },
  {
   "cell_type": "markdown",
   "id": "structural-division",
   "metadata": {},
   "source": [
    "## Matter 2: *m,n* index ordering. \n",
    "This is me verifying stuff for the [Mathematics Exchange post](https://math.stackexchange.com/q/4156607/933933) I opened. \n",
    "\n",
    "\n",
    "In the textbook, the solution for $K_{mn}$ (eqn. 12.107), when $m \\neq n$ is given by: \n",
    "\n",
    "$\\frac{sin\\:\\alpha( P_{m}(cos\\:\\alpha)P^{\\prime}_{n}(cos\\:\\alpha) - P_{n}(cos\\:\\alpha)P^{\\prime}_{m}(cos\\:\\alpha))}{m(m+1) - n(n+1)}$\n",
    "\n",
    "However, the Mathematica code implementation has the equivalent of:\n",
    "\n",
    "$\\frac{sin\\:\\alpha( P_{n}(cos\\:\\alpha)P^{\\prime}_{m}(cos\\:\\alpha) - P_{m}(cos\\:\\alpha)P^{\\prime}_{n}(cos\\:\\alpha))}{m(m+1) - n(n+1)}$\n",
    "\n"
   ]
  },
  {
   "cell_type": "code",
   "execution_count": 15,
   "id": "measured-image",
   "metadata": {},
   "outputs": [],
   "source": [
    "Pncosalpha = legendre(n, cos(alpha))\n",
    "Pmcosalpha = Pncosalpha.subs(n,m)\n",
    "\n",
    "Pnpr_cosalpha = diff(Pncosalpha, alpha)\n",
    "Pmpr_cosalpha = diff(Pmcosalpha, alpha)\n"
   ]
  },
  {
   "cell_type": "code",
   "execution_count": 20,
   "id": "working-hacker",
   "metadata": {},
   "outputs": [
    {
     "data": {
      "text/latex": [
       "$\\displaystyle \\frac{\\left(\\frac{m \\left(\\cos{\\left(\\alpha \\right)} P_{m}\\left(\\cos{\\left(\\alpha \\right)}\\right) - P_{m - 1}\\left(\\cos{\\left(\\alpha \\right)}\\right)\\right) \\sin{\\left(\\alpha \\right)} P_{n}\\left(\\cos{\\left(\\alpha \\right)}\\right)}{\\cos^{2}{\\left(\\alpha \\right)} - 1} - \\frac{n \\left(\\cos{\\left(\\alpha \\right)} P_{n}\\left(\\cos{\\left(\\alpha \\right)}\\right) - P_{n - 1}\\left(\\cos{\\left(\\alpha \\right)}\\right)\\right) \\sin{\\left(\\alpha \\right)} P_{m}\\left(\\cos{\\left(\\alpha \\right)}\\right)}{\\cos^{2}{\\left(\\alpha \\right)} - 1}\\right) \\sin{\\left(\\alpha \\right)}}{m \\left(m + 1\\right) - n \\left(n + 1\\right)}$"
      ],
      "text/plain": [
       "(m*(cos(alpha)*legendre(m, cos(alpha)) - legendre(m - 1, cos(alpha)))*sin(alpha)*legendre(n, cos(alpha))/(cos(alpha)**2 - 1) - n*(cos(alpha)*legendre(n, cos(alpha)) - legendre(n - 1, cos(alpha)))*sin(alpha)*legendre(m, cos(alpha))/(cos(alpha)**2 - 1))*sin(alpha)/(m*(m + 1) - n*(n + 1))"
      ]
     },
     "execution_count": 20,
     "metadata": {},
     "output_type": "execute_result"
    }
   ],
   "source": [
    "intextbook = (sin(alpha)/(m*(m+1)-n*(n+1)))*(Pmcosalpha*Pnpr_cosalpha - Pncosalpha*Pmpr_cosalpha)\n",
    "intextbook"
   ]
  },
  {
   "cell_type": "code",
   "execution_count": 21,
   "id": "above-hacker",
   "metadata": {},
   "outputs": [
    {
     "data": {
      "text/latex": [
       "$\\displaystyle \\frac{\\left(- \\frac{m \\left(\\cos{\\left(\\alpha \\right)} P_{m}\\left(\\cos{\\left(\\alpha \\right)}\\right) - P_{m - 1}\\left(\\cos{\\left(\\alpha \\right)}\\right)\\right) \\sin{\\left(\\alpha \\right)} P_{n}\\left(\\cos{\\left(\\alpha \\right)}\\right)}{\\cos^{2}{\\left(\\alpha \\right)} - 1} + \\frac{n \\left(\\cos{\\left(\\alpha \\right)} P_{n}\\left(\\cos{\\left(\\alpha \\right)}\\right) - P_{n - 1}\\left(\\cos{\\left(\\alpha \\right)}\\right)\\right) \\sin{\\left(\\alpha \\right)} P_{m}\\left(\\cos{\\left(\\alpha \\right)}\\right)}{\\cos^{2}{\\left(\\alpha \\right)} - 1}\\right) \\sin{\\left(\\alpha \\right)}}{m \\left(m + 1\\right) - n \\left(n + 1\\right)}$"
      ],
      "text/plain": [
       "(-m*(cos(alpha)*legendre(m, cos(alpha)) - legendre(m - 1, cos(alpha)))*sin(alpha)*legendre(n, cos(alpha))/(cos(alpha)**2 - 1) + n*(cos(alpha)*legendre(n, cos(alpha)) - legendre(n - 1, cos(alpha)))*sin(alpha)*legendre(m, cos(alpha))/(cos(alpha)**2 - 1))*sin(alpha)/(m*(m + 1) - n*(n + 1))"
      ]
     },
     "execution_count": 21,
     "metadata": {},
     "output_type": "execute_result"
    }
   ],
   "source": [
    "incode = (sin(alpha)/(m*(m+1)-n*(n+1)))*(Pncosalpha*Pmpr_cosalpha - Pmcosalpha*Pnpr_cosalpha)\n",
    "incode"
   ]
  },
  {
   "cell_type": "code",
   "execution_count": 26,
   "id": "official-reggae",
   "metadata": {},
   "outputs": [
    {
     "data": {
      "text/latex": [
       "$\\displaystyle - \\frac{147}{32768}$"
      ],
      "text/plain": [
       "-147/32768"
      ]
     },
     "execution_count": 26,
     "metadata": {},
     "output_type": "execute_result"
    }
   ],
   "source": [
    "subs_vals = {'alpha':pi/3, 'm':5,'n':2}\n",
    "incode.subs(subs_vals)"
   ]
  },
  {
   "cell_type": "code",
   "execution_count": 27,
   "id": "suited-grave",
   "metadata": {},
   "outputs": [
    {
     "data": {
      "text/latex": [
       "$\\displaystyle \\frac{147}{32768}$"
      ],
      "text/plain": [
       "147/32768"
      ]
     },
     "execution_count": 27,
     "metadata": {},
     "output_type": "execute_result"
    }
   ],
   "source": [
    "intextbook.subs(subs_vals)"
   ]
  },
  {
   "cell_type": "code",
   "execution_count": null,
   "id": "finished-covering",
   "metadata": {},
   "outputs": [],
   "source": []
  }
 ],
 "metadata": {
  "kernelspec": {
   "display_name": "Python 3",
   "language": "python",
   "name": "python3"
  },
  "language_info": {
   "codemirror_mode": {
    "name": "ipython",
    "version": 3
   },
   "file_extension": ".py",
   "mimetype": "text/x-python",
   "name": "python",
   "nbconvert_exporter": "python",
   "pygments_lexer": "ipython3",
   "version": "3.8.5"
  }
 },
 "nbformat": 4,
 "nbformat_minor": 5
}
