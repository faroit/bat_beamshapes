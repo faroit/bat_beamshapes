{
 "cells": [
  {
   "cell_type": "markdown",
   "id": "pacific-moldova",
   "metadata": {},
   "source": [
    "This is my attempt at trying to resolve the issue of different results from $P_{n}\\prime cos \\theta$ in eqn. 12.98. \n",
    "\n",
    "![](eqn12-98.png)\n"
   ]
  },
  {
   "cell_type": "markdown",
   "id": "proved-genetics",
   "metadata": {},
   "source": [
    "For this solution App II, eqn. 65 is referred to. "
   ]
  },
  {
   "cell_type": "markdown",
   "id": "confused-machinery",
   "metadata": {},
   "source": [
    "![](apIIeqn65.png)"
   ]
  },
  {
   "cell_type": "markdown",
   "id": "atmospheric-swift",
   "metadata": {},
   "source": [
    "Applying the appendix II eqn. 65, to 12.98, I'd done the following. "
   ]
  },
  {
   "cell_type": "code",
   "execution_count": 18,
   "id": "obvious-comparative",
   "metadata": {},
   "outputs": [],
   "source": [
    "\n",
    "\n",
    "from sympy import symbols, diff, legendre, cos, sin, simplify, pi\n",
    "n,z,theta = symbols('n z theta')\n"
   ]
  },
  {
   "cell_type": "code",
   "execution_count": 9,
   "id": "numerous-reducing",
   "metadata": {},
   "outputs": [],
   "source": [
    "Pnz = legendre(n,z) # the 'generic term'"
   ]
  },
  {
   "cell_type": "markdown",
   "id": "agreed-albuquerque",
   "metadata": {},
   "source": [
    "## 1) The 'naive' substitution where $z = cos \\theta$\n",
    "This is what I'd done before, and shown Gaurav.\n"
   ]
  },
  {
   "cell_type": "code",
   "execution_count": 34,
   "id": "owned-reputation",
   "metadata": {},
   "outputs": [
    {
     "data": {
      "text/latex": [
       "$\\displaystyle - \\frac{n \\left(\\cos{\\left(\\theta \\right)} P_{n}\\left(\\cos{\\left(\\theta \\right)}\\right) - P_{n - 1}\\left(\\cos{\\left(\\theta \\right)}\\right)\\right)}{\\sin^{2}{\\left(\\theta \\right)}}$"
      ],
      "text/plain": [
       "-n*(cos(theta)*legendre(n, cos(theta)) - legendre(n - 1, cos(theta)))/sin(theta)**2"
      ]
     },
     "execution_count": 34,
     "metadata": {},
     "output_type": "execute_result"
    }
   ],
   "source": [
    "generic_subs = simplify(diff(Pnz, z).subs(z, cos(theta)))\n",
    "generic_subs\n"
   ]
  },
  {
   "cell_type": "markdown",
   "id": "trying-briefing",
   "metadata": {},
   "source": [
    "## 2) Do the partial derivative ( $\\frac{\\partial}{\\partial \\theta}P_{n}\\prime cos \\theta$ ) anew with sympy"
   ]
  },
  {
   "cell_type": "code",
   "execution_count": 35,
   "id": "appropriate-comment",
   "metadata": {},
   "outputs": [
    {
     "data": {
      "text/latex": [
       "$\\displaystyle \\frac{n \\left(\\cos{\\left(\\theta \\right)} P_{n}\\left(\\cos{\\left(\\theta \\right)}\\right) - P_{n - 1}\\left(\\cos{\\left(\\theta \\right)}\\right)\\right)}{\\sin{\\left(\\theta \\right)}}$"
      ],
      "text/plain": [
       "n*(cos(theta)*legendre(n, cos(theta)) - legendre(n - 1, cos(theta)))/sin(theta)"
      ]
     },
     "execution_count": 35,
     "metadata": {},
     "output_type": "execute_result"
    }
   ],
   "source": [
    "Pncostheta = legendre(n, cos(theta))\n",
    "specific_partialdiff = simplify(diff(Pncostheta, theta))\n",
    "specific_partialdiff"
   ]
  },
  {
   "cell_type": "markdown",
   "id": "considered-preservation",
   "metadata": {},
   "source": [
    "This already gives something different!!"
   ]
  },
  {
   "cell_type": "markdown",
   "id": "virgin-metropolitan",
   "metadata": {},
   "source": [
    "## 3) eqn. 12.98 as written in textbook"
   ]
  },
  {
   "cell_type": "code",
   "execution_count": 36,
   "id": "infectious-portable",
   "metadata": {},
   "outputs": [
    {
     "data": {
      "text/latex": [
       "$\\displaystyle - \\frac{n \\left(n + 1\\right) \\left(P_{n - 1}\\left(\\cos{\\left(\\theta \\right)}\\right) - P_{n + 1}\\left(\\cos{\\left(\\theta \\right)}\\right)\\right)}{\\left(2 n + 1\\right) \\sin{\\left(\\theta \\right)}}$"
      ],
      "text/plain": [
       "-n*(n + 1)*(legendre(n - 1, cos(theta)) - legendre(n + 1, cos(theta)))/((2*n + 1)*sin(theta))"
      ]
     },
     "execution_count": 36,
     "metadata": {},
     "output_type": "execute_result"
    }
   ],
   "source": [
    "eqn1298 = - (n*(n+1)/((2*n+1)*sin(theta)))*(legendre(n-1, cos(theta))-legendre(n+1, cos(theta)))\n",
    "eqn1298"
   ]
  },
  {
   "cell_type": "code",
   "execution_count": 42,
   "id": "romance-immune",
   "metadata": {},
   "outputs": [
    {
     "data": {
      "text/plain": [
       "[-3.78314870119333, -3.78314870119333, 18.1959402394037]"
      ]
     },
     "execution_count": 42,
     "metadata": {},
     "output_type": "execute_result"
    }
   ],
   "source": [
    "values = {'theta': pi/15,\n",
    "        'n': 15}\n",
    "# substitute numeric values and see what happens\n",
    "[ eqn1298.subs(values).evalf(), specific_partialdiff.subs(values).evalf(), generic_subs.subs(values).evalf()]"
   ]
  },
  {
   "cell_type": "markdown",
   "id": "christian-drink",
   "metadata": {},
   "source": [
    "## The textbook eqn. 12.98 is CORRECT! \n",
    "It was my naive substitution that led to different results somewhere. "
   ]
  }
 ],
 "metadata": {
  "kernelspec": {
   "display_name": "Python 3",
   "language": "python",
   "name": "python3"
  },
  "language_info": {
   "codemirror_mode": {
    "name": "ipython",
    "version": 3
   },
   "file_extension": ".py",
   "mimetype": "text/x-python",
   "name": "python",
   "nbconvert_exporter": "python",
   "pygments_lexer": "ipython3",
   "version": "3.8.5"
  }
 },
 "nbformat": 4,
 "nbformat_minor": 5
}
