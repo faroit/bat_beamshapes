{
 "cells": [
  {
   "cell_type": "markdown",
   "id": "d662fb8c",
   "metadata": {},
   "source": [
    "# Implementing a piston in a sphere in FriCAS\n",
    "- Thejasvi Beleyur\n",
    "\n",
    "This notebook shows my attempts at implementing the model in Chp. 12 of Mellow & Beranek. The model relies on getting the coefficients from the $A_{n}$ 1D matrix, which comes from solving: \n",
    "\n",
    "$M.a=b$ --> $a=M^{-1}.b$ (eqn. 12.102)\n",
    "\n",
    "\n",
    "The matrix $M$ is given by (where $m=0,1...N$ and $n=0,1...N$ ):\n",
    "\n",
    "$M(m+1,n+1) = \\frac{I_{mn}+ \\left( nh_{n-1}^{(2)}(kR)-(n+1)h_{n+11}^{(2)}(kR) \\right)K_{mn}}{2n+1}$ (eqn. 12.103)\n",
    "\n",
    "$b(m+1) = -jL_{m}$ (eqn. 12.104)\n",
    "\n",
    "$a(n+1) = A_{n}$ (eqn. 12.105)\n",
    "\n",
    "So far, I don't expect $K_{mn}$ and $L_{mn}$ to be a problem as they both produce real-valued output. "
   ]
  },
  {
   "cell_type": "markdown",
   "id": "4077fc0d",
   "metadata": {},
   "source": [
    "## Implementing $I_{mn}$\n",
    "The $I_{mn}$ term is a rather involved integral that needs to be calculated numerically as it doesn't have an analytical solution. \n",
    "\n",
    "$I_{mn} = \\int_0^\\alpha \\left\\{\\left( nh_{n-1}^{(2)}(kr_{1}) - (n+1)h_{n+1}^{(2)}(kr_{1} \\right)P_{n}(\\cos\\theta)\\cos\\theta + n(n+1)h_{n}^{(2)}(kr_{1})(P_{n-1}(\\cos\\theta)-P_{n+1}(\\cos\\theta))/kr_{1} \\right\\}P_{m}(\\cos\\theta)\\frac{r_{1}^2}{R^{2}}tan\\theta\\:d\\theta$\n",
    "\n",
    "Here, $h_{n}^{(2)}(z)$ is the spherical Hankel function of the second kind: \n",
    "\n",
    "$h_{n}^{(2)}(z) = j_{n}(z)-iy_{n}(z)$, where $j_{n},y_{n}$ are the spherical Bessel's functions of the first and second kind. \n"
   ]
  },
  {
   "cell_type": "markdown",
   "id": "751f0b54",
   "metadata": {},
   "source": [
    "### The problem: $I_{mn}$ term produces a complex result\n",
    "The [numerical quadrature](https://fricas.github.io/api/NumericalQuadrature.html?highlight=aromberg) help page documents a series of methods available to numerically integrate functions which produce ```Float``` outputs. When I try integrating the $I_{mn}$ term numerically it fails. Below is my attempt."
   ]
  },
  {
   "cell_type": "code",
   "execution_count": null,
   "id": "24068970",
   "metadata": {},
   "outputs": [],
   "source": [
    ")version\n",
    "setFormat!(FormatMathJax)$JFriCASSupport\n",
    "\n",
    ")set output tex on\n",
    ")set output algebra off"
   ]
  },
  {
   "cell_type": "code",
   "execution_count": null,
   "id": "56e8276b",
   "metadata": {},
   "outputs": [],
   "source": [
    "++  Some of the constant values required for the rest of the functions below \n",
    "++ These correspond to the acoustics of the problem. \n",
    "\n",
    "freq := 50000;\n",
    "k := 2*%pi/(330/freq);\n",
    "ka := 5 ;\n",
    "a := ka/k;\n",
    "alpha := %pi/3;\n",
    "R:= a/sin(alpha);\n",
    "R := numeric(R)::Float;\n",
    "r1 := R*cos(alpha)/cos(theta);\n",
    "NN :=  3 ;--12 + 2*ka/sin(alpha)--\n"
   ]
  },
  {
   "cell_type": "code",
   "execution_count": null,
   "id": "297efd4c",
   "metadata": {},
   "outputs": [],
   "source": [
    "++ I couldn't find inbuilt spherical bessel's functions, and so had to make custom functions \n",
    "\n",
    "-- spherical bessel function-- \n",
    "sphBessel: (PositiveInteger, Float) -> Complex Float\n",
    "sphBessel(n,z) == besselJ(n+0.5,z)*sqrt(%pi/(2*z));\n",
    "-- spherical neumann function --\n",
    "sphNeumann: (PositiveInteger, Float) -> Complex Float\n",
    "sphNeumann(n,z) == besselY(n+0.5,z)*sqrt(%pi/(2*z));\n",
    "\n",
    "sphHankel2: (Integer, Float) -> Complex(Float)\n",
    "sphHankel2(n,z) == sphBessel(n,z) - %i*sphNeumann(n,z);"
   ]
  },
  {
   "cell_type": "code",
   "execution_count": null,
   "id": "a1370be4",
   "metadata": {},
   "outputs": [],
   "source": [
    "\n",
    "alternate_hankels: (PositiveInteger, DoubleFloat) -> Complex(DoubleFloat)\n",
    "alternate_hankels(n,theta) ==   \n",
    "    r1 := R*cos(alpha)/cos(theta)\n",
    "    legendreP(n,cos(theta))*cos(theta) + (n+1)*sphHankel2(n+1,k*r1)\n",
    "\n",
    "alternate_legendres: (PositiveInteger, DoubleFloat) -> Complex(DoubleFloat)\n",
    "alternate_legendres(n,theta) ==\n",
    "    r1 := R*cos(alpha)/cos(theta)\n",
    "    n*(n+1)*sphHankel2(n,k*r1)*(legendreP(n-1,cos(theta)-legendreP(n+1,cos(theta))))/(k*r1)\n",
    "\n",
    "legendretan: (PositiveInteger, DoubleFloat)-> Complex(DoubleFloat)\n",
    "legendretan(m,theta) ==\n",
    "    r1 := R*cos(alpha)/cos(theta)\n",
    "    legendreP(m,cos(theta))*(r1^2/R^2)*tan(theta)\n",
    "\n",
    "one_imn_term: (NonNegativeInteger, NonNegativeInteger, DoubleFloat) -> Complex(DoubleFloat)\n",
    "one_imn_term(m,n,theta) == \n",
    "    r1 := R*cos(alpha)/cos(theta)\n",
    "    (alternate_hankels(n,theta)+alternate_legendres(m,theta))*legendretan(m,theta)"
   ]
  },
  {
   "cell_type": "markdown",
   "id": "57245e0c",
   "metadata": {},
   "source": [
    "## Integrate $I_{mn}$ for a fixed value of $m,n$\n",
    "The numerical integration works with only one free variable. \n",
    "\n",
    "Let's set m=10, n=20 and integrate over $\\theta$"
   ]
  },
  {
   "cell_type": "code",
   "execution_count": null,
   "id": "37b8d1ed",
   "metadata": {},
   "outputs": [],
   "source": [
    "intg_imn_m10n20(theta:DoubleFloat):Complex(DoubleFloat) == one_imn_term(10,20,theta)"
   ]
  },
  {
   "cell_type": "code",
   "execution_count": null,
   "id": "13af1165",
   "metadata": {},
   "outputs": [],
   "source": [
    "++ Check that the output for the Imn term works ++ \n",
    "intg_imn_m10n20(0.2)"
   ]
  },
  {
   "cell_type": "code",
   "execution_count": null,
   "id": "6aa396f8",
   "metadata": {},
   "outputs": [],
   "source": [
    "alpha\n"
   ]
  },
  {
   "cell_type": "code",
   "execution_count": null,
   "id": "41b81286",
   "metadata": {},
   "outputs": [],
   "source": [
    "-- Some code from Waldek Hebisch to implement the numerical integration with complex functions \n",
    "\n",
    "pl := [0.9681602395_0762608983, 0.8360311073_266357943, 0.6133714327_0059039731, 0.3242534234_0380892904]::List(DoubleFloat);\n",
    "wl := [0.3302393550_0125976316, 0.0812743883_6157441196_6, 0.1806481606_9485740398, 0.2606106964_029354623, 0.3123470770_4000284007]::List(DoubleFloat);\n",
    "\n",
    "gauss9(f : DoubleFloat -> Complex(DoubleFloat), x0 : DoubleFloat, h : DoubleFloat) : Complex(DoubleFloat) ==\n",
    "    h2 := h/(2::DoubleFloat)\n",
    "    xm := x0 + h2\n",
    "    s : Complex(DoubleFloat) := f(xm)*first(wl)\n",
    "    for a in pl for w in rest(wl) repeat\n",
    "        hh := h2*a\n",
    "        s := s + w*(f(xm + hh) + f(xm - hh))\n",
    "    h2*s "
   ]
  },
  {
   "cell_type": "code",
   "execution_count": null,
   "id": "adfe8943",
   "metadata": {},
   "outputs": [],
   "source": [
    "f1(x : DoubleFloat) : Complex(DoubleFloat) == exp(complex(1, x))"
   ]
  },
  {
   "cell_type": "code",
   "execution_count": null,
   "id": "0f79b48f",
   "metadata": {},
   "outputs": [],
   "source": [
    "yufun := exp(complex(1,x))"
   ]
  },
  {
   "cell_type": "code",
   "execution_count": null,
   "id": "d87394ef",
   "metadata": {},
   "outputs": [],
   "source": [
    "complexNumeric(integrate(yufun,x=0..1))"
   ]
  },
  {
   "cell_type": "code",
   "execution_count": null,
   "id": "673ac052",
   "metadata": {},
   "outputs": [],
   "source": [
    "ad_gauss(f : DoubleFloat -> Complex(DoubleFloat), x0 : DoubleFloat,h : DoubleFloat, eps : DoubleFloat, max_level : Integer) : Complex(DoubleFloat) ==\n",
    "    val0 := gauss9(f, x0, h)\n",
    "    h2 := h/(2::DoubleFloat)\n",
    "    val1 := gauss9(f, x0, h2)\n",
    "    val2 := gauss9(f, x0 + h2, h2)\n",
    "    real(abs(val0 - val1 - val2)) < eps => val0\n",
    "    max_level = 0 =>\n",
    "        print(\"max_level too small\")\n",
    "        val0\n",
    "    eps2 := eps/(2::DoubleFloat)\n",
    "    ad_gauss(f, x0, h2, eps2, max_level - 1) +\n",
    "    ad_gauss(f, x0 + h2, h2, eps2, max_level - 1)\n"
   ]
  },
  {
   "cell_type": "code",
   "execution_count": null,
   "id": "92998870",
   "metadata": {},
   "outputs": [],
   "source": [
    "ad_gauss(f1, 0, 1, 1.0e-3, 30) "
   ]
  },
  {
   "cell_type": "raw",
   "id": "24f0dce5",
   "metadata": {},
   "source": [
    "ad_gauss(intg_imn_m10n20,0,alpha,1.0e-12,50)"
   ]
  },
  {
   "cell_type": "code",
   "execution_count": null,
   "id": "bd7a9607",
   "metadata": {},
   "outputs": [],
   "source": []
  }
 ],
 "metadata": {
  "kernelspec": {
   "display_name": "FriCAS",
   "language": "spad",
   "name": "jfricas"
  },
  "language_info": {
   "file_extension": ".input",
   "mimetype": "text/plain",
   "name": "spad"
  }
 },
 "nbformat": 4,
 "nbformat_minor": 5
}
