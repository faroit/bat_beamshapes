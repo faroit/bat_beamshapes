{
 "cells": [
  {
   "cell_type": "markdown",
   "id": "d662fb8c",
   "metadata": {},
   "source": [
    "# Implementing a piston in a sphere in FriCAS\n",
    "- Thejasvi Beleyur\n",
    "\n",
    "This notebook shows my attempts at implementing the model in Chp. 12 of Mellow & Beranek. The model relies on getting the coefficients from the $A_{n}$ 1D matrix, which comes from solving: \n",
    "\n",
    "$M.a=b$ --> $a=M^{-1}.b$ (eqn. 12.102)\n",
    "\n",
    "\n",
    "The matrix $M$ is given by (where $m=0,1...N$ and $n=0,1...N$ ):\n",
    "\n",
    "$M(m+1,n+1) = \\frac{I_{mn}+ \\left( nh_{n-1}^{(2)}(kR)-(n+1)h_{n+11}^{(2)}(kR) \\right)K_{mn}}{2n+1}$ (eqn. 12.103)\n",
    "\n",
    "$b(m+1) = -jL_{m}$ (eqn. 12.104)\n",
    "\n",
    "$a(n+1) = A_{n}$ (eqn. 12.105)\n",
    "\n",
    "So far, I don't expect $K_{mn}$ and $L_{mn}$ to be a problem as they both produce real-valued output. "
   ]
  },
  {
   "cell_type": "markdown",
   "id": "4077fc0d",
   "metadata": {},
   "source": [
    "## Implementing $I_{mn}$\n",
    "The $I_{mn}$ term is a rather involved integral that needs to be calculated numerically as it doesn't have an analytical solution. \n",
    "\n",
    "$I_{mn} = \\int_0^\\alpha \\left\\{\\left( nh_{n-1}^{(2)}(kr_{1}) - (n+1)h_{n+1}^{(2)}(kr_{1} \\right)P_{n}(\\cos\\theta)\\cos\\theta + n(n+1)h_{n}^{(2)}(kr_{1})(P_{n-1}(\\cos\\theta)-P_{n+1}(\\cos\\theta))/kr_{1} \\right\\}P_{m}(\\cos\\theta)\\frac{r_{1}^2}{R^{2}}tan\\theta\\:d\\theta$\n",
    "\n",
    "Here, $h_{n}^{(2)}(z)$ is the spherical Hankel function of the second kind: \n",
    "\n",
    "$h_{n}^{(2)}(z) = j_{n}(z)-iy_{n}(z)$, where $j_{n},y_{n}$ are the spherical Bessel's functions of the first and second kind. \n"
   ]
  },
  {
   "cell_type": "markdown",
   "id": "751f0b54",
   "metadata": {},
   "source": [
    "### The problem: $I_{mn}$ term produces a complex result\n",
    "The [numerical quadrature](https://fricas.github.io/api/NumericalQuadrature.html?highlight=aromberg) help page documents a series of methods available to numerically integrate functions which produce ```Float``` outputs. When I try integrating the $I_{mn}$ term numerically it fails. Below is my attempt."
   ]
  },
  {
   "cell_type": "code",
   "execution_count": 1,
   "id": "24068970",
   "metadata": {},
   "outputs": [],
   "source": [
    ")set output tex on\n",
    ")set output algebra off"
   ]
  },
  {
   "cell_type": "code",
   "execution_count": 2,
   "id": "56e8276b",
   "metadata": {},
   "outputs": [
    {
     "data": {
      "text/html": [
       "<div style=\"text-align:right;\"><sub><a href=\"https://fricas.github.io/api/PositiveInteger.html\" target=\"_blank\" style=\"color:blue;text-decoration:none;\">PositiveInteger</a></sub></div>"
      ]
     },
     "execution_count": 1,
     "metadata": {},
     "output_type": "execute_result"
    },
    {
     "data": {
      "text/html": [
       "<div style=\"text-align:right;\"><sub><a href=\"https://fricas.github.io/api/Pi.html\" target=\"_blank\" style=\"color:blue;text-decoration:none;\">Pi</a></sub></div>"
      ]
     },
     "execution_count": 2,
     "metadata": {},
     "output_type": "execute_result"
    },
    {
     "data": {
      "text/html": [
       "<div style=\"text-align:right;\"><sub><a href=\"https://fricas.github.io/api/PositiveInteger.html\" target=\"_blank\" style=\"color:blue;text-decoration:none;\">PositiveInteger</a></sub></div>"
      ]
     },
     "execution_count": 3,
     "metadata": {},
     "output_type": "execute_result"
    },
    {
     "data": {
      "text/html": [
       "<div style=\"text-align:right;\"><sub><a href=\"https://fricas.github.io/api/Pi.html\" target=\"_blank\" style=\"color:blue;text-decoration:none;\">Pi</a></sub></div>"
      ]
     },
     "execution_count": 4,
     "metadata": {},
     "output_type": "execute_result"
    },
    {
     "data": {
      "text/html": [
       "<div style=\"text-align:right;\"><sub><a href=\"https://fricas.github.io/api/Pi.html\" target=\"_blank\" style=\"color:blue;text-decoration:none;\">Pi</a></sub></div>"
      ]
     },
     "execution_count": 5,
     "metadata": {},
     "output_type": "execute_result"
    },
    {
     "data": {
      "text/html": [
       "<div style=\"text-align:right;\"><sub><a href=\"https://fricas.github.io/api/Expression.html\" target=\"_blank\" style=\"color:blue;text-decoration:none;\">Expression</a>(<a href=\"https://fricas.github.io/api/Integer.html\" target=\"_blank\" style=\"color:blue;text-decoration:none;\">Integer</a>)</sub></div>"
      ]
     },
     "execution_count": 6,
     "metadata": {},
     "output_type": "execute_result"
    },
    {
     "data": {
      "text/html": [
       "<div style=\"text-align:right;\"><sub><a href=\"https://fricas.github.io/api/DoubleFloat.html\" target=\"_blank\" style=\"color:blue;text-decoration:none;\">DoubleFloat</a></sub></div>"
      ]
     },
     "execution_count": 7,
     "metadata": {},
     "output_type": "execute_result"
    },
    {
     "data": {
      "text/html": [
       "<div style=\"text-align:right;\"><sub><a href=\"https://fricas.github.io/api/Expression.html\" target=\"_blank\" style=\"color:blue;text-decoration:none;\">Expression</a>(<a href=\"https://fricas.github.io/api/DoubleFloat.html\" target=\"_blank\" style=\"color:blue;text-decoration:none;\">DoubleFloat</a>)</sub></div>"
      ]
     },
     "execution_count": 8,
     "metadata": {},
     "output_type": "execute_result"
    },
    {
     "data": {
      "text/html": [
       "<div style=\"text-align:right;\"><sub><a href=\"https://fricas.github.io/api/PositiveInteger.html\" target=\"_blank\" style=\"color:blue;text-decoration:none;\">PositiveInteger</a></sub></div>"
      ]
     },
     "execution_count": 9,
     "metadata": {},
     "output_type": "execute_result"
    }
   ],
   "source": [
    "++  Some of the constant values required for the rest of the functions below \n",
    "++ These correspond to the acoustics of the problem. \n",
    "\n",
    "freq := 50000;\n",
    "k := 2*%pi/(330/freq);\n",
    "ka := 5 ;\n",
    "a := ka/k;\n",
    "alpha := %pi/3;\n",
    "R:= a/sin(alpha);\n",
    "R := numeric(R)::DoubleFloat;\n",
    "r1 := R*cos(alpha)/cos(theta);\n",
    "NN :=  3 ;--12 + 2*ka/sin(alpha)--\n"
   ]
  },
  {
   "cell_type": "code",
   "execution_count": 3,
   "id": "297efd4c",
   "metadata": {},
   "outputs": [
    {
     "data": {
      "text/html": [
       "<div style=\"text-align:right;\"><sub><a href=\"https://fricas.github.io/api/Void.html\" target=\"_blank\" style=\"color:blue;text-decoration:none;\">Void</a></sub></div>"
      ]
     },
     "execution_count": 10,
     "metadata": {},
     "output_type": "execute_result"
    },
    {
     "data": {
      "text/html": [
       "<div style=\"text-align:right;\"><sub><a href=\"https://fricas.github.io/api/Void.html\" target=\"_blank\" style=\"color:blue;text-decoration:none;\">Void</a></sub></div>"
      ]
     },
     "execution_count": 11,
     "metadata": {},
     "output_type": "execute_result"
    },
    {
     "data": {
      "text/html": [
       "<div style=\"text-align:right;\"><sub><a href=\"https://fricas.github.io/api/Void.html\" target=\"_blank\" style=\"color:blue;text-decoration:none;\">Void</a></sub></div>"
      ]
     },
     "execution_count": 12,
     "metadata": {},
     "output_type": "execute_result"
    },
    {
     "data": {
      "text/html": [
       "<div style=\"text-align:right;\"><sub><a href=\"https://fricas.github.io/api/Void.html\" target=\"_blank\" style=\"color:blue;text-decoration:none;\">Void</a></sub></div>"
      ]
     },
     "execution_count": 13,
     "metadata": {},
     "output_type": "execute_result"
    },
    {
     "data": {
      "text/html": [
       "<div style=\"text-align:right;\"><sub><a href=\"https://fricas.github.io/api/Void.html\" target=\"_blank\" style=\"color:blue;text-decoration:none;\">Void</a></sub></div>"
      ]
     },
     "execution_count": 14,
     "metadata": {},
     "output_type": "execute_result"
    },
    {
     "data": {
      "text/html": [
       "<div style=\"text-align:right;\"><sub><a href=\"https://fricas.github.io/api/Void.html\" target=\"_blank\" style=\"color:blue;text-decoration:none;\">Void</a></sub></div>"
      ]
     },
     "execution_count": 15,
     "metadata": {},
     "output_type": "execute_result"
    }
   ],
   "source": [
    "++ I couldn't find inbuilt spherical bessel's functions, and so had to make custom functions \n",
    "\n",
    "-- spherical bessel function-- \n",
    "sphBessel: (PositiveInteger, DoubleFloat) -> Complex DoubleFloat\n",
    "sphBessel(n,z) == besselJ(n+0.5,z)*sqrt(%pi/(2*z));\n",
    "-- spherical neumann function --\n",
    "sphNeumann: (PositiveInteger, DoubleFloat) -> Complex DoubleFloat\n",
    "sphNeumann(n,z) == besselY(n+0.5,z)*sqrt(%pi/(2*z));\n",
    "\n",
    "sphHankel2: (Integer, DoubleFloat) -> Complex(DoubleFloat)\n",
    "sphHankel2(n,z) == sphBessel(n,z) - %i*sphNeumann(n,z);"
   ]
  },
  {
   "cell_type": "code",
   "execution_count": 4,
   "id": "a1370be4",
   "metadata": {},
   "outputs": [
    {
     "data": {
      "text/html": [
       "<div style=\"text-align:right;\"><sub><a href=\"https://fricas.github.io/api/Void.html\" target=\"_blank\" style=\"color:blue;text-decoration:none;\">Void</a></sub></div>"
      ]
     },
     "execution_count": 16,
     "metadata": {},
     "output_type": "execute_result"
    },
    {
     "data": {
      "text/html": [
       "<div style=\"text-align:right;\"><sub><a href=\"https://fricas.github.io/api/Void.html\" target=\"_blank\" style=\"color:blue;text-decoration:none;\">Void</a></sub></div>"
      ]
     },
     "execution_count": 17,
     "metadata": {},
     "output_type": "execute_result"
    },
    {
     "data": {
      "text/html": [
       "<div style=\"text-align:right;\"><sub><a href=\"https://fricas.github.io/api/Void.html\" target=\"_blank\" style=\"color:blue;text-decoration:none;\">Void</a></sub></div>"
      ]
     },
     "execution_count": 18,
     "metadata": {},
     "output_type": "execute_result"
    },
    {
     "data": {
      "text/html": [
       "<div style=\"text-align:right;\"><sub><a href=\"https://fricas.github.io/api/Void.html\" target=\"_blank\" style=\"color:blue;text-decoration:none;\">Void</a></sub></div>"
      ]
     },
     "execution_count": 19,
     "metadata": {},
     "output_type": "execute_result"
    },
    {
     "data": {
      "text/html": [
       "<div style=\"text-align:right;\"><sub><a href=\"https://fricas.github.io/api/Void.html\" target=\"_blank\" style=\"color:blue;text-decoration:none;\">Void</a></sub></div>"
      ]
     },
     "execution_count": 20,
     "metadata": {},
     "output_type": "execute_result"
    },
    {
     "data": {
      "text/html": [
       "<div style=\"text-align:right;\"><sub><a href=\"https://fricas.github.io/api/Void.html\" target=\"_blank\" style=\"color:blue;text-decoration:none;\">Void</a></sub></div>"
      ]
     },
     "execution_count": 21,
     "metadata": {},
     "output_type": "execute_result"
    },
    {
     "data": {
      "text/html": [
       "<div style=\"text-align:right;\"><sub><a href=\"https://fricas.github.io/api/Void.html\" target=\"_blank\" style=\"color:blue;text-decoration:none;\">Void</a></sub></div>"
      ]
     },
     "execution_count": 22,
     "metadata": {},
     "output_type": "execute_result"
    },
    {
     "data": {
      "text/html": [
       "<div style=\"text-align:right;\"><sub><a href=\"https://fricas.github.io/api/Void.html\" target=\"_blank\" style=\"color:blue;text-decoration:none;\">Void</a></sub></div>"
      ]
     },
     "execution_count": 23,
     "metadata": {},
     "output_type": "execute_result"
    }
   ],
   "source": [
    "\n",
    "alternate_hankels: (PositiveInteger, DoubleFloat) -> Complex(DoubleFloat)\n",
    "alternate_hankels(n,theta) ==   \n",
    "    r1 := R*cos(alpha)/cos(theta)\n",
    "    legendreP(n,cos(theta))*cos(theta) + (n+1)*sphHankel2(n+1,k*r1)\n",
    "\n",
    "alternate_legendres: (PositiveInteger, DoubleFloat) -> Complex(DoubleFloat)\n",
    "alternate_legendres(n,theta) ==\n",
    "    r1 := R*cos(alpha)/cos(theta)\n",
    "    n*(n+1)*sphHankel2(n,k*r1)*(legendreP(n-1,cos(theta)-legendreP(n+1,cos(theta))))/(k*r1)\n",
    "\n",
    "legendretan: (PositiveInteger, DoubleFloat)-> Complex(DoubleFloat)\n",
    "legendretan(m,theta) ==\n",
    "    r1 := R*cos(alpha)/cos(theta)\n",
    "    legendreP(m,cos(theta))*(r1^2/R^2)*tan(theta)\n",
    "\n",
    "one_imn_term: (NonNegativeInteger, NonNegativeInteger, DoubleFloat) -> Complex(DoubleFloat)\n",
    "one_imn_term(m,n,theta) == \n",
    "    r1 := R*cos(alpha)/cos(theta)\n",
    "    (alternate_hankels(n,theta)+alternate_legendres(m,theta))*legendretan(m,theta)"
   ]
  },
  {
   "cell_type": "markdown",
   "id": "57245e0c",
   "metadata": {},
   "source": [
    "## Integrate $I_{mn}$ for a fixed value of $m,n$\n",
    "The numerical integration works with only one free variable. \n",
    "\n",
    "Let's set m=10, n=20 and integrate over $\\theta$"
   ]
  },
  {
   "cell_type": "code",
   "execution_count": 5,
   "id": "37b8d1ed",
   "metadata": {},
   "outputs": [
    {
     "data": {
      "text/html": [
       "<div style=\"text-align:right;\"><sub><a href=\"https://fricas.github.io/api/Void.html\" target=\"_blank\" style=\"color:blue;text-decoration:none;\">Void</a></sub></div>"
      ]
     },
     "execution_count": 24,
     "metadata": {},
     "output_type": "execute_result"
    },
    {
     "data": {
      "text/html": [
       "<div style=\"text-align:right;\"><sub><a href=\"https://fricas.github.io/api/Void.html\" target=\"_blank\" style=\"color:blue;text-decoration:none;\">Void</a></sub></div>"
      ]
     },
     "execution_count": 25,
     "metadata": {},
     "output_type": "execute_result"
    }
   ],
   "source": [
    "intg_imn_m10n20: (DoubleFloat) -> Complex(DoubleFloat)\n",
    "intg_imn_m10n20(theta) == one_imn_term(10,20,theta)"
   ]
  },
  {
   "cell_type": "code",
   "execution_count": 6,
   "id": "13af1165",
   "metadata": {},
   "outputs": [
    {
     "name": "stderr",
     "output_type": "stream",
     "text": [
      "Compiling function sphBessel with type (PositiveInteger, DoubleFloat) -> \n",
      "Complex(DoubleFloat) \n",
      "Compiling function sphNeumann with type (PositiveInteger, DoubleFloat) -> \n",
      "Complex(DoubleFloat) \n",
      "Compiling function sphHankel2 with type (Integer, DoubleFloat) -> Complex(\n",
      "DoubleFloat) \n",
      "Compiling function alternate_hankels with type (PositiveInteger, DoubleFloat)\n",
      " -> Complex(DoubleFloat) \n",
      "Your expression cannot be fully compiled because it contains an integer \n",
      "expression (for - ) whose sign cannot be determined (in general) and so must \n",
      "be specified by you. Perhaps you can try substituting something like\n",
      "                                  (- :: PI) \n",
      "                                     or\n",
      "                                 (- :: NNI) \n",
      "into your expression for - .\n",
      "FriCAS will attempt to step through and interpret the code.\n",
      "Compiling function alternate_legendres with type (PositiveInteger, \n",
      "DoubleFloat) -> Complex(DoubleFloat) \n",
      "Compiling function legendretan with type (PositiveInteger, DoubleFloat) -> \n",
      "Complex(DoubleFloat) \n",
      "Compiling function one_imn_term with type (NonNegativeInteger, \n",
      "NonNegativeInteger, DoubleFloat) -> Complex(DoubleFloat) \n",
      "Compiling function intg_imn_m10n20 with type DoubleFloat -> Complex(\n",
      "DoubleFloat) \n",
      "Compiling function G636 with type Integer -> Boolean \n",
      "Compiling function G638 with type NonNegativeInteger -> Boolean \n"
     ]
    },
    {
     "data": {
      "text/latex": [
       "$$\\def\\sp{^}\\def\\sb{_}\\def\\leqno(#1){}\\def\\erf\\{\\mathrm{erf}}\\def\\sinh{\\mathrm{sinh}}\\def\\zag#1#2{{{ \\left.{#1}\\right|}\\over{\\left|{#2}\\right.}}}\n",
       "-{0.0033616864042227187}+{{1.2849395751981805e14} \\  i} \n",
       "\\leqno(26)\n",
       "$$\n"
      ]
     },
     "execution_count": 26,
     "metadata": {},
     "output_type": "execute_result"
    },
    {
     "data": {
      "text/html": [
       "<div style=\"text-align:right;\"><sub><a href=\"https://fricas.github.io/api/Complex.html\" target=\"_blank\" style=\"color:blue;text-decoration:none;\">Complex</a>(<a href=\"https://fricas.github.io/api/DoubleFloat.html\" target=\"_blank\" style=\"color:blue;text-decoration:none;\">DoubleFloat</a>)</sub></div>"
      ]
     },
     "metadata": {},
     "output_type": "display_data"
    }
   ],
   "source": [
    "++ Check that the output for the Imn term works ++ \n",
    "intg_imn_m10n20(0.2)"
   ]
  },
  {
   "cell_type": "code",
   "execution_count": 7,
   "id": "1d729eb5",
   "metadata": {},
   "outputs": [
    {
     "name": "stderr",
     "output_type": "stream",
     "text": [
      "There are 1 exposed and 0 unexposed library operations named aromberg having \n",
      "8 argument(s) but none was determined to be applicable. Use HyperDoc Browse, \n",
      "or issue\n",
      "                            )display op aromberg\n",
      "to learn more about the available operations. Perhaps package-calling the \n",
      "operation or using coercions on the arguments will allow you to apply the \n",
      "operation.\n",
      "Cannot find a definition or applicable library operation named aromberg with \n",
      "argument type(s) \n",
      "                       FunctionCalled(intg_imn_m10n20)\n",
      "                             NonNegativeInteger\n",
      "                                     Pi\n",
      "                                    Float\n",
      "                              Fraction(Integer)\n",
      "                               PositiveInteger\n",
      "                               PositiveInteger\n",
      "                               PositiveInteger\n",
      " \n",
      "Perhaps you should use \"@\" to indicate the required return type, or \"$\" to \n",
      "specify which version of the function you need.\n"
     ]
    }
   ],
   "source": [
    "aromberg(intg_imn_m10n20,0,alpha,0.99,10^-12,10,50,30)"
   ]
  },
  {
   "cell_type": "code",
   "execution_count": null,
   "id": "adfe8943",
   "metadata": {},
   "outputs": [],
   "source": []
  }
 ],
 "metadata": {
  "kernelspec": {
   "display_name": "FriCAS",
   "language": "spad",
   "name": "jfricas"
  },
  "language_info": {
   "file_extension": ".input",
   "mimetype": "text/plain",
   "name": "spad"
  }
 },
 "nbformat": 4,
 "nbformat_minor": 5
}
