{
 "cells": [
  {
   "cell_type": "code",
   "execution_count": 1,
   "id": "5581d83a",
   "metadata": {},
   "outputs": [
    {
     "data": {
      "text/plain": [
       "2.0\n"
      ]
     },
     "execution_count": 1,
     "metadata": {},
     "output_type": "execute_result"
    },
    {
     "data": {
      "text/html": [
       "<div style=\"text-align:right;\"><sub><a href=\"https://fricas.github.io/api/Float.html\" target=\"_blank\" style=\"color:blue;text-decoration:none;\">Float</a></sub></div>"
      ]
     },
     "metadata": {},
     "output_type": "display_data"
    }
   ],
   "source": [
    "u := 2.0"
   ]
  },
  {
   "cell_type": "code",
   "execution_count": 12,
   "id": "daaf3855",
   "metadata": {},
   "outputs": [
    {
     "data": {
      "text/html": [
       "<div style=\"text-align:right;\"><sub><a href=\"https://fricas.github.io/api/PositiveInteger.html\" target=\"_blank\" style=\"color:blue;text-decoration:none;\">PositiveInteger</a></sub></div>"
      ]
     },
     "execution_count": 39,
     "metadata": {},
     "output_type": "execute_result"
    },
    {
     "data": {
      "text/plain": [
       "10000 %pi\n",
       "---------\n",
       "    33\n"
      ]
     },
     "execution_count": 40,
     "metadata": {},
     "output_type": "execute_result"
    },
    {
     "data": {
      "text/html": [
       "<div style=\"text-align:right;\"><sub><a href=\"https://fricas.github.io/api/Pi.html\" target=\"_blank\" style=\"color:blue;text-decoration:none;\">Pi</a></sub></div>"
      ]
     },
     "metadata": {},
     "output_type": "display_data"
    },
    {
     "data": {
      "text/html": [
       "<div style=\"text-align:right;\"><sub><a href=\"https://fricas.github.io/api/PositiveInteger.html\" target=\"_blank\" style=\"color:blue;text-decoration:none;\">PositiveInteger</a></sub></div>"
      ]
     },
     "execution_count": 41,
     "metadata": {},
     "output_type": "execute_result"
    },
    {
     "data": {
      "text/html": [
       "<div style=\"text-align:right;\"><sub><a href=\"https://fricas.github.io/api/Pi.html\" target=\"_blank\" style=\"color:blue;text-decoration:none;\">Pi</a></sub></div>"
      ]
     },
     "execution_count": 42,
     "metadata": {},
     "output_type": "execute_result"
    },
    {
     "data": {
      "text/html": [
       "<div style=\"text-align:right;\"><sub><a href=\"https://fricas.github.io/api/Pi.html\" target=\"_blank\" style=\"color:blue;text-decoration:none;\">Pi</a></sub></div>"
      ]
     },
     "execution_count": 43,
     "metadata": {},
     "output_type": "execute_result"
    },
    {
     "data": {
      "text/html": [
       "<div style=\"text-align:right;\"><sub><a href=\"https://fricas.github.io/api/Expression.html\" target=\"_blank\" style=\"color:blue;text-decoration:none;\">Expression</a>(<a href=\"https://fricas.github.io/api/Integer.html\" target=\"_blank\" style=\"color:blue;text-decoration:none;\">Integer</a>)</sub></div>"
      ]
     },
     "execution_count": 44,
     "metadata": {},
     "output_type": "execute_result"
    },
    {
     "data": {
      "text/html": [
       "<div style=\"text-align:right;\"><sub><a href=\"https://fricas.github.io/api/Expression.html\" target=\"_blank\" style=\"color:blue;text-decoration:none;\">Expression</a>(<a href=\"https://fricas.github.io/api/Integer.html\" target=\"_blank\" style=\"color:blue;text-decoration:none;\">Integer</a>)</sub></div>"
      ]
     },
     "execution_count": 45,
     "metadata": {},
     "output_type": "execute_result"
    },
    {
     "data": {
      "text/plain": [
       "3\n"
      ]
     },
     "execution_count": 46,
     "metadata": {},
     "output_type": "execute_result"
    },
    {
     "data": {
      "text/html": [
       "<div style=\"text-align:right;\"><sub><a href=\"https://fricas.github.io/api/PositiveInteger.html\" target=\"_blank\" style=\"color:blue;text-decoration:none;\">PositiveInteger</a></sub></div>"
      ]
     },
     "metadata": {},
     "output_type": "display_data"
    },
    {
     "name": "stderr",
     "output_type": "stream",
     "text": [
      " 1 old definition(s) deleted for function or rule sphBessel \n"
     ]
    },
    {
     "data": {
      "text/html": [
       "<div style=\"text-align:right;\"><sub><a href=\"https://fricas.github.io/api/Void.html\" target=\"_blank\" style=\"color:blue;text-decoration:none;\">Void</a></sub></div>"
      ]
     },
     "execution_count": 47,
     "metadata": {},
     "output_type": "execute_result"
    },
    {
     "name": "stderr",
     "output_type": "stream",
     "text": [
      " 1 old definition(s) deleted for function or rule sphNeumann \n"
     ]
    },
    {
     "data": {
      "text/html": [
       "<div style=\"text-align:right;\"><sub><a href=\"https://fricas.github.io/api/Void.html\" target=\"_blank\" style=\"color:blue;text-decoration:none;\">Void</a></sub></div>"
      ]
     },
     "execution_count": 48,
     "metadata": {},
     "output_type": "execute_result"
    },
    {
     "name": "stderr",
     "output_type": "stream",
     "text": [
      "Compiled code for one_imn_term has been cleared.\n"
     ]
    },
    {
     "data": {
      "text/html": [
       "<div style=\"text-align:right;\"><sub><a href=\"https://fricas.github.io/api/Void.html\" target=\"_blank\" style=\"color:blue;text-decoration:none;\">Void</a></sub></div>"
      ]
     },
     "execution_count": 49,
     "metadata": {},
     "output_type": "execute_result"
    }
   ],
   "source": [
    "freq := 50000;\n",
    "k := 2*%pi/(330/freq)\n",
    "ka := 5 ;\n",
    "a := ka/k;\n",
    "alpha := %pi/10;\n",
    "R := a/sin(alpha);\n",
    "r1 := R*cos(alpha)/cos(theta);\n",
    "NN :=  3 --12 + 2*ka/sin(alpha)--\n",
    "\n",
    "--eqn 12.106 --\n",
    "\n",
    "-- spherical bessel function-- \n",
    "sphBessel(n,z) == besselJ(n+0.5,z)*sqrt(%pi/(2*z));\n",
    "-- spherical neumann function --\n",
    "sphNeumann(n,z) == besselY(n+0.5,z)*sqrt(%pi/(2*z));\n",
    "sphHankel2(n,z) == sphBessel(n,z) - %i*sphNeumann(n,z);"
   ]
  },
  {
   "cell_type": "code",
   "execution_count": 15,
   "id": "ebab4b76",
   "metadata": {},
   "outputs": [
    {
     "name": "stderr",
     "output_type": "stream",
     "text": [
      "Compiled code for one_imn_term has been cleared.\n"
     ]
    },
    {
     "data": {
      "text/html": [
       "<div style=\"text-align:right;\"><sub><a href=\"https://fricas.github.io/api/Void.html\" target=\"_blank\" style=\"color:blue;text-decoration:none;\">Void</a></sub></div>"
      ]
     },
     "execution_count": 51,
     "metadata": {},
     "output_type": "execute_result"
    }
   ],
   "source": [
    "one_imn_term(m,n,k,r1,theta) == ((n*sphHankel2(n-1,k*r1)-(n+1)*sphHankel2(n+1,k*r1))*legendreP(n,cos(theta))*cos(theta) + n*(n+1)*sphHankel2(n,k*r1)*((legendreP(n-1,cos(theta))-legendreP(n+1,cos(theta)))/k*r1))*legendreP(m,cos(theta))*(r1^2/R^2)*tan(theta) "
   ]
  },
  {
   "cell_type": "code",
   "execution_count": 17,
   "id": "28fd5c60",
   "metadata": {},
   "outputs": [
    {
     "name": "stderr",
     "output_type": "stream",
     "text": [
      "Your expression cannot be fully compiled because it contains an integer \n",
      "expression (for - ) whose sign cannot be determined (in general) and so must \n",
      "be specified by you. Perhaps you can try substituting something like\n",
      "                                  (- :: PI) \n",
      "                                     or\n",
      "                                 (- :: NNI) \n",
      "into your expression for - .\n",
      "FriCAS will attempt to step through and interpret the code.\n",
      "There are 1 exposed and 0 unexposed library operations named legendreP having\n",
      " 2 argument(s) but none was determined to be applicable. Use HyperDoc Browse, \n",
      "or issue\n",
      "                            )display op legendreP\n",
      "to learn more about the available operations. Perhaps package-calling the \n",
      "operation or using coercions on the arguments will allow you to apply the \n",
      "operation.\n",
      "Cannot find a definition or applicable library operation named legendreP with\n",
      " argument type(s) \n",
      "                                   Integer\n",
      "                             Expression(Integer)\n",
      " \n",
      "Perhaps you should use \"@\" to indicate the required return type, or \"$\" to \n",
      "specify which version of the function you need.\n"
     ]
    }
   ],
   "source": [
    "one_imn_term(1,0,k,r1,%pi/15)"
   ]
  },
  {
   "cell_type": "code",
   "execution_count": null,
   "id": "b35c8a53",
   "metadata": {},
   "outputs": [],
   "source": []
  }
 ],
 "metadata": {
  "kernelspec": {
   "display_name": "FriCAS",
   "language": "spad",
   "name": "jfricas"
  },
  "language_info": {
   "file_extension": ".input",
   "mimetype": "text/plain",
   "name": "spad"
  }
 },
 "nbformat": 4,
 "nbformat_minor": 5
}
