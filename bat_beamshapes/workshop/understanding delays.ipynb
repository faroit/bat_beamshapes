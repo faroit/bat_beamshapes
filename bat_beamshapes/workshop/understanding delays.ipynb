{
 "cells": [
  {
   "cell_type": "markdown",
   "id": "better-process",
   "metadata": {},
   "source": [
    "# Is Sympy really 'slow'?\n",
    "I don't want to be a bad carpenter who blames his tools. Here're my attempts at understanding why my Sympy code is slow. The technical specs of my computer may have a lot to do with the long time things are taking to run, though, any techniques I discover to speed up computation will have a speed up on any system I suppose. \n",
    "\n",
    "Ultimately my goal is to have integral and linear algebra routines that can run at sub-second speed, and preferrably a few ms. "
   ]
  },
  {
   "cell_type": "markdown",
   "id": "stupid-salon",
   "metadata": {},
   "source": [
    "## Potential things to try out \n",
    "\n",
    "* ~~I may have been using the wrong Python version of Theano. The [docs](https://theano-pymc.readthedocs.io/en/latest/requirements.html) say official support for Theano is only there for Python <3.6.~~ \n",
    "    * ~~install Sympy, Theano nd pyMC3~~ *This doesn't work because Theano didn't seem to recognise 'external' sympy functions, eg. legendre*\n",
    "    \n",
    "* With ```lambdify``` use the 'mpmath' module as a backend. This *really* sped up computations, in comparison to the default (sympy?) backend module. \n",
    "\n",
    "* Linux specific: change the 'niceness'of the process and so the CPU spends more time on the code."
   ]
  },
  {
   "cell_type": "code",
   "execution_count": 1,
   "id": "serial-friday",
   "metadata": {},
   "outputs": [],
   "source": [
    "from joblib import Parallel, delayed\n",
    "from joblib import wrap_non_picklable_objects\n",
    "from gmpy2 import *\n",
    "import matplotlib.pyplot as plt\n",
    "import mpmath\n",
    "from mpmath import mpf\n",
    "dps = 100; mpmath.mp.dps = dps\n",
    "import numpy as np\n",
    "from scipy.special import jv as bessel_firstkind\n",
    "from symengine import * \n",
    "import sympy\n",
    "from sympy import besselj, symbols, hankel2, legendre, sin, cos, tan, summation, I, oo, diff, pi\n",
    "from sympy import factor_terms, Matrix\n",
    "from sympy import Abs, lambdify, integrate, expand,integrate, Integral\n",
    "from sympy.printing.theanocode import theano_function\n",
    "from sympy.utilities.autowrap import autowrap\n",
    "import tqdm\n",
    "x, alpha, k, m,n,p, r1, R, theta = symbols('x alpha k m n p r1 R theta')\n",
    "from sympy import N, cse\n",
    "\n",
    "from sympy.printing.theanocode import theano_function\n",
    "num_sumterms = 50"
   ]
  },
  {
   "cell_type": "code",
   "execution_count": 2,
   "id": "minor-width",
   "metadata": {},
   "outputs": [],
   "source": [
    "hankel2_func = lambdify([n, p], hankel2(n, p), 'mpmath')"
   ]
  },
  {
   "cell_type": "code",
   "execution_count": 3,
   "id": "another-stand",
   "metadata": {},
   "outputs": [],
   "source": [
    "r1 = (R*cos(alpha))/cos(theta)\n",
    "Lm_expr = expand(legendre(m, cos(theta))*(r1**2/R**2)*tan(theta))# \n",
    "Lm_wo_leg = (r1**2/R**2)*tan(theta)"
   ]
  },
  {
   "cell_type": "code",
   "execution_count": 23,
   "id": "conservative-discussion",
   "metadata": {},
   "outputs": [],
   "source": [
    "subs_dict = {'alpha':mpf(np.radians(60)), 'k':5,'R':mpf(0.1), 'm':20,'n':10, 'theta':mpf(np.radians(5))}"
   ]
  },
  {
   "cell_type": "code",
   "execution_count": 5,
   "id": "imported-creation",
   "metadata": {},
   "outputs": [],
   "source": [
    "Lm = Integral(Lm_expr, (theta,0,alpha))#.doit(meijerg=True)"
   ]
  },
  {
   "cell_type": "code",
   "execution_count": 6,
   "id": "contemporary-seating",
   "metadata": {},
   "outputs": [],
   "source": [
    "Lm_func = lambdify([m, R, alpha], Lm, 'mpmath')"
   ]
  },
  {
   "cell_type": "raw",
   "id": "median-method",
   "metadata": {},
   "source": [
    "%%time\n",
    "Lm.subs(subs_dict).doit()"
   ]
  },
  {
   "cell_type": "code",
   "execution_count": 7,
   "id": "nominated-pharmaceutical",
   "metadata": {},
   "outputs": [
    {
     "name": "stdout",
     "output_type": "stream",
     "text": [
      "CPU times: user 140 ms, sys: 341 µs, total: 140 ms\n",
      "Wall time: 139 ms\n"
     ]
    },
    {
     "data": {
      "text/plain": [
       "mpf('0.0008098262850926050777410678902535758222607521355914125525164515166435803306093484471288396559860545548289')"
      ]
     },
     "execution_count": 7,
     "metadata": {},
     "output_type": "execute_result"
    }
   ],
   "source": [
    "%%time \n",
    "Lm_func(subs_dict['m'],subs_dict['R'],subs_dict['alpha'])"
   ]
  },
  {
   "cell_type": "raw",
   "id": "engaging-therapist",
   "metadata": {},
   "source": [
    "%%time\n",
    "N(Lm.subs(substitute_dict),dps)"
   ]
  },
  {
   "cell_type": "code",
   "execution_count": 8,
   "id": "compressed-velvet",
   "metadata": {},
   "outputs": [],
   "source": [
    "# eqn 12.107\n",
    "Kmn_expr = legendre(n, cos(theta))*legendre(m, cos(theta))*sin(theta)\n",
    "Kmn = Integral(Kmn_expr, (theta, alpha, pi))#.as_sum(num_sumterms,'midpoint')"
   ]
  },
  {
   "cell_type": "code",
   "execution_count": 9,
   "id": "speaking-arkansas",
   "metadata": {},
   "outputs": [],
   "source": [
    "kmn_lambdify = lambdify([m,n,alpha],Kmn,'mpmath')"
   ]
  },
  {
   "cell_type": "code",
   "execution_count": 10,
   "id": "thorough-winter",
   "metadata": {},
   "outputs": [
    {
     "name": "stdout",
     "output_type": "stream",
     "text": [
      "CPU times: user 301 ms, sys: 139 µs, total: 301 ms\n",
      "Wall time: 301 ms\n"
     ]
    },
    {
     "data": {
      "text/plain": [
       "mpf('-0.001727547462648632651566050875068465751494226171518181482997361897449925444398259724115500946819197208954')"
      ]
     },
     "execution_count": 10,
     "metadata": {},
     "output_type": "execute_result"
    }
   ],
   "source": [
    "%%time \n",
    "kmn_lambdify(subs_dict['m'],subs_dict['n'], subs_dict['alpha'])"
   ]
  },
  {
   "cell_type": "code",
   "execution_count": 11,
   "id": "future-portland",
   "metadata": {},
   "outputs": [],
   "source": [
    "Imn_part1 = (n*hankel2(n-1,k*r1)-(n+1)*hankel2(n+1,k*r1))*legendre(n, cos(theta))*cos(theta)\n",
    "Imn_part2 = n*(n+1)*hankel2(n, k*r1)*(legendre(n-1, cos(theta)-legendre(n+1, cos(theta))))/k*r1\n",
    "Imn_parts = expand(Imn_part1+Imn_part2)\n",
    "Imn_expr = expand(Imn_parts*legendre(m,cos(theta))*(r1**2/R**2)*tan(theta))\n",
    "Imn = Integral(Imn_expr, (theta, 0, alpha)).as_sum(100,'trapezoid')\n",
    "\n",
    "Imn_lambdify = lambdify([m,n,k,R,alpha], Imn,'mpmath')"
   ]
  },
  {
   "cell_type": "code",
   "execution_count": 17,
   "id": "burning-teaching",
   "metadata": {},
   "outputs": [],
   "source": [
    "from sympy.utilities.autowrap import binary_function, autowrap"
   ]
  },
  {
   "cell_type": "code",
   "execution_count": 26,
   "id": "interior-acting",
   "metadata": {},
   "outputs": [
    {
     "name": "stdout",
     "output_type": "stream",
     "text": [
      "CPU times: user 21.3 ms, sys: 61 µs, total: 21.4 ms\n",
      "Wall time: 21.1 ms\n"
     ]
    },
    {
     "data": {
      "text/latex": [
       "$\\displaystyle 0.000000000002229691151349015678457426882362011603184286660331963465160540003610215274991395239675044759754420569 - 1436195310774.684905552399630973877377465816320840487548948951681774490151229010058207461826657247671 i$"
      ],
      "text/plain": [
       "0.000000000002229691151349015678457426882362011603184286660331963465160540003610215274991395239675044759754420569 - 1436195310774.684905552399630973877377465816320840487548948951681774490151229010058207461826657247671*I"
      ]
     },
     "execution_count": 26,
     "metadata": {},
     "output_type": "execute_result"
    }
   ],
   "source": [
    "%%time\n",
    "N(Imn_expr.subs(subs_dict),dps)"
   ]
  },
  {
   "cell_type": "code",
   "execution_count": null,
   "id": "treated-principle",
   "metadata": {},
   "outputs": [],
   "source": []
  },
  {
   "cell_type": "code",
   "execution_count": 12,
   "id": "portable-survival",
   "metadata": {},
   "outputs": [
    {
     "name": "stdout",
     "output_type": "stream",
     "text": [
      "(0.0000000000001465641709813984694233211206311576441291691607827907953604710610435374979747704179595561278707871022 - 108911153799.70578339628770975059856066634162555077533516763941362500945881110788626363602684323301j)\n",
      "CPU times: user 1.37 s, sys: 7.84 ms, total: 1.37 s\n",
      "Wall time: 1.37 s\n"
     ]
    }
   ],
   "source": [
    "%%time\n",
    "u = Imn_lambdify(subs_dict['m'],\n",
    "             subs_dict['n'],\n",
    "             subs_dict['k'],\n",
    "             subs_dict['R'],\n",
    "            subs_dict['alpha'])\n",
    "print(u)"
   ]
  },
  {
   "cell_type": "code",
   "execution_count": 13,
   "id": "single-preserve",
   "metadata": {},
   "outputs": [],
   "source": [
    "M_mn = (Imn + (n*hankel2(n-1,k*R) - (n+1)*hankel2(n+1,k*R) )*Kmn)/(2*n+1)\n",
    "\n"
   ]
  },
  {
   "cell_type": "code",
   "execution_count": 14,
   "id": "auburn-arrow",
   "metadata": {},
   "outputs": [],
   "source": [
    "M_mn_func = lambdify((m,n,k,R,alpha), M_mn,'mpmath')"
   ]
  },
  {
   "cell_type": "code",
   "execution_count": 15,
   "id": "previous-compromise",
   "metadata": {},
   "outputs": [],
   "source": [
    "b = -I*Lm\n",
    "b_func = lambdify([m,alpha], b,'mpmath')"
   ]
  },
  {
   "cell_type": "code",
   "execution_count": 16,
   "id": "awful-safety",
   "metadata": {},
   "outputs": [],
   "source": [
    "frequency = 50*10**3 # kHz\n",
    "vsound = 330 # m/s\n",
    "wavelength = vsound/frequency\n",
    "alpha_value = np.radians(60)\n",
    "k_value = 2*np.pi/(wavelength)\n",
    "ka = 5\n",
    "a_value = ka/k_value \n",
    "R_value = a_value/mpmath.sin(alpha_value) # m\n"
   ]
  },
  {
   "cell_type": "code",
   "execution_count": 17,
   "id": "rural-success",
   "metadata": {},
   "outputs": [],
   "source": [
    "Nv = 12 + int(2*ka/sin(alpha_value))\n",
    "M_matrix = mpmath.matrix(Nv,Nv)\n",
    "b_matrix = mpmath.matrix(Nv,1)\n"
   ]
  },
  {
   "cell_type": "code",
   "execution_count": 18,
   "id": "interior-xerox",
   "metadata": {},
   "outputs": [],
   "source": [
    "params = {'k':k_value, 'a':a_value, 'R':R_value, 'alpha':alpha_value}"
   ]
  },
  {
   "cell_type": "code",
   "execution_count": 19,
   "id": "perfect-worse",
   "metadata": {},
   "outputs": [],
   "source": [
    "def Mmn(eachm, eachn, params):\n",
    "    Imn_value = Imn_lambdify(eachm, eachn, params['k'], params['R'], params['alpha'])\n",
    "    first_hankel = eachn*hankel2_func(eachn-1,params['k']*params['R'])\n",
    "    second_hankel = (eachn+1)*hankel2_func(eachn+1,params['k']*params['R'])\n",
    "    Kmn_value = kmn_lambdify(eachm,eachn, params['alpha'])\n",
    "    return ( Imn_value + (first_hankel - second_hankel)*Kmn_value)/(2*eachn+1)\n"
   ]
  },
  {
   "cell_type": "raw",
   "id": "desirable-oriental",
   "metadata": {},
   "source": [
    "%%time\n",
    "Mmn(0,1,params)"
   ]
  },
  {
   "cell_type": "code",
   "execution_count": null,
   "id": "prerequisite-omaha",
   "metadata": {},
   "outputs": [
    {
     "name": "stderr",
     "output_type": "stream",
     "text": [
      "\r",
      "  0%|          | 0/23 [00:00<?, ?it/s]"
     ]
    }
   ],
   "source": [
    "%%time\n",
    "rowcol = [ ]\n",
    "for eachn in tqdm.trange(Nv):\n",
    "    for eachm in range(Nv):\n",
    "        Imn_value = Imn_lambdify(eachm, eachn, params['k'], params['R'], params['alpha'])\n",
    "        first_hankel = eachn*hankel2_func(eachn-1,params['k']*params['R'])\n",
    "        second_hankel = (eachn+1)*hankel2_func(eachn+1,params['k']*params['R'])\n",
    "        Kmn_value = kmn_lambdify(eachm,eachn, params['alpha'])\n",
    "        M_matrix[eachm, eachm] = ( Imn_value + (first_hankel - second_hankel)*Kmn_value)/(2*eachn+1)\n"
   ]
  },
  {
   "cell_type": "raw",
   "id": "baking-details",
   "metadata": {
    "scrolled": true
   },
   "source": [
    "rowcol = [(eachm, eachn) for eachn in range(Nv) for eachm in range(Nv)]\n",
    "        \n",
    "\n",
    "M_values = Parallel(n_jobs=4)(Mmn(pos[0], pos[1], params)  for pos in tqdm.tqdm(rowcol))\n",
    "#M_values = [M_mn_func(pos[0], pos[1], params['k'], params['R'], params['alpha'])  for pos in tqdm.tqdm(rowcol)]\n"
   ]
  },
  {
   "cell_type": "code",
   "execution_count": null,
   "id": "described-commander",
   "metadata": {},
   "outputs": [],
   "source": [
    "for each_m in range(Nv):\n",
    "    #M_matrix[each_m, each_n] = M_mn_func(each_m, each_n, k_value, R_value, alpha_value)\n",
    "    b_matrix[each_m,:] = b_func(each_m, alpha_value)\n"
   ]
  },
  {
   "cell_type": "code",
   "execution_count": null,
   "id": "natural-michael",
   "metadata": {},
   "outputs": [],
   "source": [
    "a_matrix = mpmath.lu_solve(M_matrix,b_matrix)"
   ]
  },
  {
   "cell_type": "code",
   "execution_count": null,
   "id": "clear-password",
   "metadata": {},
   "outputs": [],
   "source": [
    "mpmath.residual(M_matrix,a_matrix,b_matrix)"
   ]
  },
  {
   "cell_type": "code",
   "execution_count": null,
   "id": "placed-shaft",
   "metadata": {},
   "outputs": [],
   "source": [
    "legendre_func = lambdify((m, x), legendre(m, x),'mpmath')"
   ]
  },
  {
   "cell_type": "code",
   "execution_count": null,
   "id": "wired-radical",
   "metadata": {},
   "outputs": [],
   "source": [
    "\n",
    "def d_theta(angle,k_v,R_v,alpha_v,An):\n",
    "    num = 4 \n",
    "    N_v = An.rows\n",
    "    denom  = (k_v**2)*(R_v**2)*mpmath.sin(alpha_v)**2\n",
    "    part1 = num/denom\n",
    "    jn_matrix = np.array([1j**f for f in range(N_v)])\n",
    "    legendre_matrix = np.array([legendre(n_v, np.cos(angle)) for n_v in range(N_v)])\n",
    "    part2_matrix = np.column_stack((An, jn_matrix, legendre_matrix))\n",
    "    part2 = np.sum(np.apply_along_axis(lambda X: X[0]*X[1]*X[2], 1, part2_matrix))\n",
    "    rel_level = - part1*part2\n",
    "    return rel_level\n",
    "\n",
    "def d_zero(k_v,R_v,alpha_v,An):\n",
    "    num = 4 \n",
    "    N_v = An.rows\n",
    "    denom  = (k_v**2)*(R_v**2)*mpmath.sin(alpha_v)**2\n",
    "    part1 = num/denom\n",
    "    jn_matrix = np.array([1j**f for f in range(N_v)])\n",
    "    part2_matrix = np.column_stack((An, jn_matrix))\n",
    "    part2 = np.sum(np.apply_along_axis(lambda X: X[0]*X[1], 1, part2_matrix))\n",
    "    rel_level = - part1*part2\n",
    "    return rel_level\n",
    "\n",
    "def relative_directionality_db(angle,k_v,R_v,alpha_v,An):\n",
    "    off_axis = d_theta(angle,k_v,R_v,alpha_v,An)\n",
    "    on_axis = d_zero(k_v,R_v,alpha_v,An)\n",
    "    rel_level = 20*mpmath.log10(abs(off_axis/on_axis))\n",
    "    return rel_level"
   ]
  },
  {
   "cell_type": "code",
   "execution_count": null,
   "id": "canadian-history",
   "metadata": {},
   "outputs": [],
   "source": [
    "\n",
    "angles = np.linspace(0,2*np.pi,200)\n",
    "dirnlty = [relative_directionality_db(angle_v, k_value, R_value,alpha_value,a_matrix) for angle_v in angles]\n"
   ]
  },
  {
   "cell_type": "code",
   "execution_count": null,
   "id": "written-calgary",
   "metadata": {},
   "outputs": [],
   "source": [
    "plt.figure()\n",
    "a0 = plt.subplot(111, projection='polar')\n",
    "plt.plot(angles, dirnlty)\n",
    "plt.ylim(-40,0);plt.yticks([0,-10,-20,-30,-40]);\n",
    "plt.xticks(np.radians(np.arange(0,360,30)));"
   ]
  },
  {
   "cell_type": "code",
   "execution_count": null,
   "id": "economic-choir",
   "metadata": {},
   "outputs": [],
   "source": []
  }
 ],
 "metadata": {
  "kernelspec": {
   "display_name": "Python 3",
   "language": "python",
   "name": "python3"
  },
  "language_info": {
   "codemirror_mode": {
    "name": "ipython",
    "version": 3
   },
   "file_extension": ".py",
   "mimetype": "text/x-python",
   "name": "python",
   "nbconvert_exporter": "python",
   "pygments_lexer": "ipython3",
   "version": "3.8.5"
  }
 },
 "nbformat": 4,
 "nbformat_minor": 5
}
