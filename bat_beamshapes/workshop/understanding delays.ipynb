{
 "cells": [
  {
   "cell_type": "markdown",
   "id": "shared-boston",
   "metadata": {},
   "source": [
    "# Is Sympy really 'slow'?\n",
    "I don't want to be a bad carpenter who blames his tools. Here're my attempts at understanding why my Sympy code is slow. The technical specs of my computer may have a lot to do with the long time things are taking to run, though, any techniques I discover to speed up computation will have a speed up on any system I suppose. \n",
    "\n",
    "Ultimately my goal is to have integral and linear algebra routines that can run at sub-second speed, and preferrably a few ms. "
   ]
  },
  {
   "cell_type": "markdown",
   "id": "vietnamese-blond",
   "metadata": {},
   "source": [
    "## Potential things to try out \n",
    "\n",
    "* ~~I may have been using the wrong Python version of Theano. The [docs](https://theano-pymc.readthedocs.io/en/latest/requirements.html) say official support for Theano is only there for Python <3.6.~~ \n",
    "    * ~~install Sympy, Theano nd pyMC3~~ *This doesn't work because Theano didn't seem to recognise 'external' sympy functions, eg. legendre*\n",
    "    \n",
    "* With ```lambdify``` use the 'mpmath' module as a backend. This *really* sped up computations, in comparison to the default (sympy?) backend module. "
   ]
  },
  {
   "cell_type": "code",
   "execution_count": 1,
   "id": "social-vitamin",
   "metadata": {},
   "outputs": [],
   "source": [
    "from joblib import Parallel, delayed\n",
    "from gmpy2 import *\n",
    "import matplotlib.pyplot as plt\n",
    "import mpmath\n",
    "from mpmath import mpf\n",
    "dps = 100\n",
    "mpmath.mp.dps = dps\n",
    "import numpy as np\n",
    "from scipy.special import jv as bessel_firstkind\n",
    "#from symengine import * \n",
    "import sympy\n",
    "from sympy import besselj, symbols, hankel2, legendre, sin, cos, tan, summation, I, oo, diff, pi\n",
    "from sympy import factor_terms, Matrix\n",
    "from sympy import Abs, lambdify, integrate, expand,integrate, Integral\n",
    "from sympy.printing.theanocode import theano_function\n",
    "from sympy.utilities.autowrap import autowrap\n",
    "import tqdm\n",
    "x, alpha, k, m,n, r1, R, theta = symbols('x alpha k m n r1 R theta')\n",
    "from sympy import N, cse\n",
    "\n",
    "from sympy.printing.theanocode import theano_function\n"
   ]
  },
  {
   "cell_type": "code",
   "execution_count": 2,
   "id": "dominant-setting",
   "metadata": {},
   "outputs": [],
   "source": [
    "r1 = (R*cos(alpha))/cos(theta)\n",
    "Lm_expr = expand(legendre(m, cos(theta))*(r1**2/R**2)*tan(theta))# \n",
    "Lm_wo_leg = (r1**2/R**2)*tan(theta)"
   ]
  },
  {
   "cell_type": "code",
   "execution_count": 3,
   "id": "international-consensus",
   "metadata": {},
   "outputs": [
    {
     "data": {
      "text/latex": [
       "$\\displaystyle \\frac{\\cos^{2}{\\left(\\alpha \\right)} \\tan{\\left(\\theta \\right)} P_{m}\\left(\\cos{\\left(\\theta \\right)}\\right)}{\\cos^{2}{\\left(\\theta \\right)}}$"
      ],
      "text/plain": [
       "cos(alpha)**2*tan(theta)*legendre(m, cos(theta))/cos(theta)**2"
      ]
     },
     "execution_count": 3,
     "metadata": {},
     "output_type": "execute_result"
    }
   ],
   "source": [
    "Lm_expr\n"
   ]
  },
  {
   "cell_type": "code",
   "execution_count": 4,
   "id": "acting-check",
   "metadata": {},
   "outputs": [],
   "source": [
    "substitute_dict = {'alpha':sympy.Rational(np.radians(10)), 'k':5,'R':sympy.Rational(0.1), 'm':20,'n':10}"
   ]
  },
  {
   "cell_type": "code",
   "execution_count": 5,
   "id": "parliamentary-staff",
   "metadata": {},
   "outputs": [
    {
     "data": {
      "text/latex": [
       "$\\displaystyle \\int\\limits_{0}^{\\alpha} \\frac{\\cos^{2}{\\left(\\alpha \\right)} \\tan{\\left(\\theta \\right)} P_{m}\\left(\\cos{\\left(\\theta \\right)}\\right)}{\\cos^{2}{\\left(\\theta \\right)}}\\, d\\theta$"
      ],
      "text/plain": [
       "Integral(cos(alpha)**2*tan(theta)*legendre(m, cos(theta))/cos(theta)**2, (theta, 0, alpha))"
      ]
     },
     "execution_count": 5,
     "metadata": {},
     "output_type": "execute_result"
    }
   ],
   "source": [
    "Lm = Integral(Lm_expr, (theta,0,alpha))#.doit(meijerg=True)\n",
    "Lm"
   ]
  },
  {
   "cell_type": "code",
   "execution_count": 6,
   "id": "separated-delta",
   "metadata": {},
   "outputs": [
    {
     "name": "stdout",
     "output_type": "stream",
     "text": [
      "CPU times: user 10.4 ms, sys: 0 ns, total: 10.4 ms\n",
      "Wall time: 10.3 ms\n"
     ]
    },
    {
     "data": {
      "text/latex": [
       "$\\displaystyle \\int\\limits_{0}^{\\frac{6288211335136391}{36028797018963968}} \\frac{\\left(\\frac{34461632205 \\cos^{20}{\\left(\\theta \\right)}}{262144} - \\frac{83945001525 \\cos^{18}{\\left(\\theta \\right)}}{131072} + \\frac{347123925225 \\cos^{16}{\\left(\\theta \\right)}}{262144} - \\frac{49589132175 \\cos^{14}{\\left(\\theta \\right)}}{32768} + \\frac{136745788725 \\cos^{12}{\\left(\\theta \\right)}}{131072} - \\frac{29113619535 \\cos^{10}{\\left(\\theta \\right)}}{65536} + \\frac{15058768725 \\cos^{8}{\\left(\\theta \\right)}}{131072} - \\frac{557732175 \\cos^{6}{\\left(\\theta \\right)}}{32768} + \\frac{334639305 \\cos^{4}{\\left(\\theta \\right)}}{262144} - \\frac{4849845 \\cos^{2}{\\left(\\theta \\right)}}{131072} + \\frac{46189}{262144}\\right) \\cos^{2}{\\left(\\frac{6288211335136391}{36028797018963968} \\right)} \\tan{\\left(\\theta \\right)}}{\\cos^{2}{\\left(\\theta \\right)}}\\, d\\theta$"
      ],
      "text/plain": [
       "Integral((34461632205*cos(theta)**20/262144 - 83945001525*cos(theta)**18/131072 + 347123925225*cos(theta)**16/262144 - 49589132175*cos(theta)**14/32768 + 136745788725*cos(theta)**12/131072 - 29113619535*cos(theta)**10/65536 + 15058768725*cos(theta)**8/131072 - 557732175*cos(theta)**6/32768 + 334639305*cos(theta)**4/262144 - 4849845*cos(theta)**2/131072 + 46189/262144)*cos(6288211335136391/36028797018963968)**2*tan(theta)/cos(theta)**2, (theta, 0, 6288211335136391/36028797018963968))"
      ]
     },
     "execution_count": 6,
     "metadata": {},
     "output_type": "execute_result"
    }
   ],
   "source": [
    "%%time\n",
    "Lm.subs(substitute_dict)"
   ]
  },
  {
   "cell_type": "raw",
   "id": "applicable-closer",
   "metadata": {},
   "source": [
    "%%time\n",
    "N(Lm.subs(substitute_dict),dps)"
   ]
  },
  {
   "cell_type": "code",
   "execution_count": 7,
   "id": "received-bottle",
   "metadata": {},
   "outputs": [
    {
     "data": {
      "text/latex": [
       "$\\displaystyle \\int\\limits_{\\alpha}^{\\pi} \\sin{\\left(\\theta \\right)} P_{m}\\left(\\cos{\\left(\\theta \\right)}\\right) P_{n}\\left(\\cos{\\left(\\theta \\right)}\\right)\\, d\\theta$"
      ],
      "text/plain": [
       "Integral(sin(theta)*legendre(m, cos(theta))*legendre(n, cos(theta)), (theta, alpha, pi))"
      ]
     },
     "execution_count": 7,
     "metadata": {},
     "output_type": "execute_result"
    }
   ],
   "source": [
    "# eqn 12.107\n",
    "Kmn_expr = expand(legendre(n, cos(theta))*legendre(m, cos(theta))*sin(theta) )\n",
    "Kmn = Integral(Kmn_expr, (theta, alpha, pi)).doit(meijerg=True)\n",
    "Kmn"
   ]
  },
  {
   "cell_type": "code",
   "execution_count": 8,
   "id": "animated-value",
   "metadata": {},
   "outputs": [
    {
     "name": "stdout",
     "output_type": "stream",
     "text": [
      "CPU times: user 8.48 ms, sys: 97 µs, total: 8.58 ms\n",
      "Wall time: 8.55 ms\n"
     ]
    },
    {
     "data": {
      "text/latex": [
       "$\\displaystyle \\int\\limits_{\\frac{6288211335136391}{36028797018963968}}^{\\pi} \\left(\\frac{46189 \\cos^{10}{\\left(\\theta \\right)}}{256} - \\frac{109395 \\cos^{8}{\\left(\\theta \\right)}}{256} + \\frac{45045 \\cos^{6}{\\left(\\theta \\right)}}{128} - \\frac{15015 \\cos^{4}{\\left(\\theta \\right)}}{128} + \\frac{3465 \\cos^{2}{\\left(\\theta \\right)}}{256} - \\frac{63}{256}\\right) \\left(\\frac{34461632205 \\cos^{20}{\\left(\\theta \\right)}}{262144} - \\frac{83945001525 \\cos^{18}{\\left(\\theta \\right)}}{131072} + \\frac{347123925225 \\cos^{16}{\\left(\\theta \\right)}}{262144} - \\frac{49589132175 \\cos^{14}{\\left(\\theta \\right)}}{32768} + \\frac{136745788725 \\cos^{12}{\\left(\\theta \\right)}}{131072} - \\frac{29113619535 \\cos^{10}{\\left(\\theta \\right)}}{65536} + \\frac{15058768725 \\cos^{8}{\\left(\\theta \\right)}}{131072} - \\frac{557732175 \\cos^{6}{\\left(\\theta \\right)}}{32768} + \\frac{334639305 \\cos^{4}{\\left(\\theta \\right)}}{262144} - \\frac{4849845 \\cos^{2}{\\left(\\theta \\right)}}{131072} + \\frac{46189}{262144}\\right) \\sin{\\left(\\theta \\right)}\\, d\\theta$"
      ],
      "text/plain": [
       "Integral((46189*cos(theta)**10/256 - 109395*cos(theta)**8/256 + 45045*cos(theta)**6/128 - 15015*cos(theta)**4/128 + 3465*cos(theta)**2/256 - 63/256)*(34461632205*cos(theta)**20/262144 - 83945001525*cos(theta)**18/131072 + 347123925225*cos(theta)**16/262144 - 49589132175*cos(theta)**14/32768 + 136745788725*cos(theta)**12/131072 - 29113619535*cos(theta)**10/65536 + 15058768725*cos(theta)**8/131072 - 557732175*cos(theta)**6/32768 + 334639305*cos(theta)**4/262144 - 4849845*cos(theta)**2/131072 + 46189/262144)*sin(theta), (theta, 6288211335136391/36028797018963968, pi))"
      ]
     },
     "execution_count": 8,
     "metadata": {},
     "output_type": "execute_result"
    }
   ],
   "source": [
    "%%time\n",
    "Kmn.subs(substitute_dict)"
   ]
  },
  {
   "cell_type": "code",
   "execution_count": 9,
   "id": "unlimited-fortune",
   "metadata": {},
   "outputs": [
    {
     "name": "stdout",
     "output_type": "stream",
     "text": [
      "CPU times: user 8.07 s, sys: 20.6 ms, total: 8.09 s\n",
      "Wall time: 8.09 s\n"
     ]
    },
    {
     "data": {
      "text/latex": [
       "$\\displaystyle -0.001727547462648632651566050875068465751494226171518181482997361897449925444398259724115500946819197209$"
      ],
      "text/plain": [
       "-0.001727547462648632651566050875068465751494226171518181482997361897449925444398259724115500946819197209"
      ]
     },
     "execution_count": 9,
     "metadata": {},
     "output_type": "execute_result"
    }
   ],
   "source": [
    "%%time\n",
    "N(Kmn.subs(substitute_dict),dps)"
   ]
  },
  {
   "cell_type": "code",
   "execution_count": 10,
   "id": "furnished-privacy",
   "metadata": {},
   "outputs": [
    {
     "data": {
      "text/latex": [
       "$\\displaystyle \\int\\limits_{\\alpha}^{\\pi} \\sin{\\left(\\theta \\right)} P_{m}\\left(\\cos{\\left(\\theta \\right)}\\right) P_{n}\\left(\\cos{\\left(\\theta \\right)}\\right)\\, d\\theta$"
      ],
      "text/plain": [
       "Integral(sin(theta)*legendre(m, cos(theta))*legendre(n, cos(theta)), (theta, alpha, pi))"
      ]
     },
     "execution_count": 10,
     "metadata": {},
     "output_type": "execute_result"
    }
   ],
   "source": [
    "Kmn"
   ]
  },
  {
   "cell_type": "code",
   "execution_count": 11,
   "id": "constitutional-insert",
   "metadata": {},
   "outputs": [],
   "source": [
    "kmn_lambdify = lambdify([m,n,alpha],Kmn,'mpmath')"
   ]
  },
  {
   "cell_type": "code",
   "execution_count": 12,
   "id": "consolidated-fundamentals",
   "metadata": {},
   "outputs": [
    {
     "data": {
      "text/plain": [
       "0.17453292519943295"
      ]
     },
     "execution_count": 12,
     "metadata": {},
     "output_type": "execute_result"
    }
   ],
   "source": [
    "np.radians(10)"
   ]
  },
  {
   "cell_type": "code",
   "execution_count": 13,
   "id": "indian-convergence",
   "metadata": {},
   "outputs": [
    {
     "data": {
      "text/plain": [
       "{'alpha': 6288211335136391/36028797018963968,\n",
       " 'k': 5,\n",
       " 'R': 3602879701896397/36028797018963968,\n",
       " 'm': 20,\n",
       " 'n': 10}"
      ]
     },
     "execution_count": 13,
     "metadata": {},
     "output_type": "execute_result"
    }
   ],
   "source": [
    "substitute_dict"
   ]
  },
  {
   "cell_type": "code",
   "execution_count": 14,
   "id": "certified-taiwan",
   "metadata": {},
   "outputs": [
    {
     "name": "stdout",
     "output_type": "stream",
     "text": [
      "CPU times: user 303 ms, sys: 4.19 ms, total: 307 ms\n",
      "Wall time: 307 ms\n"
     ]
    },
    {
     "data": {
      "text/plain": [
       "mpf('-0.001727547462648632651566050875068465751494226171518181482997361897449925444398259724115500946819197208954')"
      ]
     },
     "execution_count": 14,
     "metadata": {},
     "output_type": "execute_result"
    }
   ],
   "source": [
    "%%time\n",
    "kmn_lambdify(substitute_dict['m'],\n",
    "             substitute_dict['n'],\n",
    "             substitute_dict['alpha'])"
   ]
  },
  {
   "cell_type": "code",
   "execution_count": 15,
   "id": "legitimate-medication",
   "metadata": {},
   "outputs": [],
   "source": [
    "Imn_part1 = (n*hankel2(n-1,k*r1)-(n+1)*hankel2(n+1,k*r1))*legendre(n, cos(theta))*cos(theta)\n",
    "Imn_part2 = n*(n+1)*hankel2(n, k*r1)*(legendre(n-1, cos(theta)-legendre(n+1, cos(theta))))/k*r1\n",
    "Imn_parts = expand(Imn_part1+Imn_part2)\n",
    "Imn_expr = expand(Imn_parts*legendre(m,cos(theta))*(r1**2/R**2)*tan(theta))\n",
    "Imn = Integral(Imn_expr, (theta, 0, alpha)).doit(meijerg=True)\n",
    "\n",
    "Imn_lambdify = lambdify([m,n,k,R,alpha], Imn,'mpmath')"
   ]
  },
  {
   "cell_type": "raw",
   "id": "mobile-complaint",
   "metadata": {},
   "source": [
    "%%time\n",
    "u = Imn_lambdify(substitute_dict['m'],\n",
    "             substitute_dict['n'],\n",
    "             substitute_dict['k'],\n",
    "             substitute_dict['R'],\n",
    "            substitute_dict['alpha'])\n",
    "print(u)"
   ]
  },
  {
   "cell_type": "code",
   "execution_count": 16,
   "id": "collect-canada",
   "metadata": {},
   "outputs": [
    {
     "data": {
      "text/latex": [
       "$\\displaystyle - \\frac{\\left(\\int\\limits_{0}^{\\alpha} \\frac{k \\tan{\\left(\\theta \\right)} H^{(2)}_{n + 1}\\left(\\frac{R k \\cos{\\left(\\alpha \\right)}}{\\cos{\\left(\\theta \\right)}}\\right) P_{m}\\left(\\cos{\\left(\\theta \\right)}\\right) P_{n}\\left(\\cos{\\left(\\theta \\right)}\\right)}{\\cos{\\left(\\theta \\right)}}\\, d\\theta + \\int\\limits_{0}^{\\alpha} \\left(- \\frac{k n \\tan{\\left(\\theta \\right)} H^{(2)}_{n - 1}\\left(\\frac{R k \\cos{\\left(\\alpha \\right)}}{\\cos{\\left(\\theta \\right)}}\\right) P_{m}\\left(\\cos{\\left(\\theta \\right)}\\right) P_{n}\\left(\\cos{\\left(\\theta \\right)}\\right)}{\\cos{\\left(\\theta \\right)}}\\right)\\, d\\theta + \\int\\limits_{0}^{\\alpha} \\frac{k n \\tan{\\left(\\theta \\right)} H^{(2)}_{n + 1}\\left(\\frac{R k \\cos{\\left(\\alpha \\right)}}{\\cos{\\left(\\theta \\right)}}\\right) P_{m}\\left(\\cos{\\left(\\theta \\right)}\\right) P_{n}\\left(\\cos{\\left(\\theta \\right)}\\right)}{\\cos{\\left(\\theta \\right)}}\\, d\\theta + \\int\\limits_{0}^{\\alpha} \\left(- \\frac{R n \\cos{\\left(\\alpha \\right)} \\tan{\\left(\\theta \\right)} H^{(2)}_{n}\\left(\\frac{R k \\cos{\\left(\\alpha \\right)}}{\\cos{\\left(\\theta \\right)}}\\right) P_{m}\\left(\\cos{\\left(\\theta \\right)}\\right) P_{n - 1}\\left(\\cos{\\left(\\theta \\right)} - P_{n + 1}\\left(\\cos{\\left(\\theta \\right)}\\right)\\right)}{\\cos^{3}{\\left(\\theta \\right)}}\\right)\\, d\\theta + \\int\\limits_{0}^{\\alpha} \\left(- \\frac{R n^{2} \\cos{\\left(\\alpha \\right)} \\tan{\\left(\\theta \\right)} H^{(2)}_{n}\\left(\\frac{R k \\cos{\\left(\\alpha \\right)}}{\\cos{\\left(\\theta \\right)}}\\right) P_{m}\\left(\\cos{\\left(\\theta \\right)}\\right) P_{n - 1}\\left(\\cos{\\left(\\theta \\right)} - P_{n + 1}\\left(\\cos{\\left(\\theta \\right)}\\right)\\right)}{\\cos^{3}{\\left(\\theta \\right)}}\\right)\\, d\\theta\\right) \\cos^{2}{\\left(\\alpha \\right)}}{k}$"
      ],
      "text/plain": [
       "-(Integral(k*tan(theta)*hankel2(n + 1, R*k*cos(alpha)/cos(theta))*legendre(m, cos(theta))*legendre(n, cos(theta))/cos(theta), (theta, 0, alpha)) + Integral(-k*n*tan(theta)*hankel2(n - 1, R*k*cos(alpha)/cos(theta))*legendre(m, cos(theta))*legendre(n, cos(theta))/cos(theta), (theta, 0, alpha)) + Integral(k*n*tan(theta)*hankel2(n + 1, R*k*cos(alpha)/cos(theta))*legendre(m, cos(theta))*legendre(n, cos(theta))/cos(theta), (theta, 0, alpha)) + Integral(-R*n*cos(alpha)*tan(theta)*hankel2(n, R*k*cos(alpha)/cos(theta))*legendre(m, cos(theta))*legendre(n - 1, cos(theta) - legendre(n + 1, cos(theta)))/cos(theta)**3, (theta, 0, alpha)) + Integral(-R*n**2*cos(alpha)*tan(theta)*hankel2(n, R*k*cos(alpha)/cos(theta))*legendre(m, cos(theta))*legendre(n - 1, cos(theta) - legendre(n + 1, cos(theta)))/cos(theta)**3, (theta, 0, alpha)))*cos(alpha)**2/k"
      ]
     },
     "execution_count": 16,
     "metadata": {},
     "output_type": "execute_result"
    }
   ],
   "source": [
    "Imn"
   ]
  },
  {
   "cell_type": "raw",
   "id": "neural-sherman",
   "metadata": {},
   "source": [
    "%%time\n",
    "Imn.subs(substitute_dict).evalf(dps)"
   ]
  },
  {
   "cell_type": "code",
   "execution_count": 17,
   "id": "adult-philip",
   "metadata": {},
   "outputs": [],
   "source": [
    "M_mn = (Imn + (n*hankel2(n-1,k*R) - (n+1)*hankel2(n+1,k*R) )*Kmn)/(2*n+1).doit(meijerg=True)\n",
    "M_mn_func = lambdify((m,n,k,R,alpha), M_mn,'mpmath')\n"
   ]
  },
  {
   "cell_type": "raw",
   "id": "periodic-quilt",
   "metadata": {},
   "source": [
    "%%time\n",
    "M_mn_func(substitute_dict['m'],\n",
    "             substitute_dict['n'],\n",
    "             substitute_dict['k'],\n",
    "             substitute_dict['R'],\n",
    "            substitute_dict['alpha'])"
   ]
  },
  {
   "cell_type": "code",
   "execution_count": 18,
   "id": "macro-console",
   "metadata": {},
   "outputs": [],
   "source": [
    "b = -I*Lm\n",
    "b_func = lambdify([m,alpha], b,'mpmath')"
   ]
  },
  {
   "cell_type": "code",
   "execution_count": 19,
   "id": "architectural-trust",
   "metadata": {},
   "outputs": [
    {
     "data": {
      "text/latex": [
       "$\\displaystyle \\int\\limits_{0}^{\\alpha} \\frac{\\cos^{2}{\\left(\\alpha \\right)} \\tan{\\left(\\theta \\right)} P_{m}\\left(\\cos{\\left(\\theta \\right)}\\right)}{\\cos^{2}{\\left(\\theta \\right)}}\\, d\\theta$"
      ],
      "text/plain": [
       "Integral(cos(alpha)**2*tan(theta)*legendre(m, cos(theta))/cos(theta)**2, (theta, 0, alpha))"
      ]
     },
     "execution_count": 19,
     "metadata": {},
     "output_type": "execute_result"
    }
   ],
   "source": [
    "Lm"
   ]
  },
  {
   "cell_type": "code",
   "execution_count": 20,
   "id": "forty-quality",
   "metadata": {},
   "outputs": [
    {
     "name": "stdout",
     "output_type": "stream",
     "text": [
      "CPU times: user 108 ms, sys: 199 µs, total: 108 ms\n",
      "Wall time: 107 ms\n"
     ]
    },
    {
     "data": {
      "text/plain": [
       "mpc(real='0.0', imag='-0.0008098262850926050777410678902535758222607521355914125525164515166435803306093484471288396559860545548289')"
      ]
     },
     "execution_count": 20,
     "metadata": {},
     "output_type": "execute_result"
    }
   ],
   "source": [
    "%%time\n",
    "b_func(substitute_dict['m'],\n",
    "       substitute_dict['alpha'])"
   ]
  },
  {
   "cell_type": "code",
   "execution_count": 21,
   "id": "dimensional-alabama",
   "metadata": {},
   "outputs": [],
   "source": [
    "Nv = 10\n",
    "M_matrix = mpmath.matrix(Nv,Nv)\n",
    "b_matrix = mpmath.matrix(Nv,1)\n"
   ]
  },
  {
   "cell_type": "code",
   "execution_count": 22,
   "id": "raised-egypt",
   "metadata": {},
   "outputs": [],
   "source": [
    "\n",
    "frequency = 50*10**3 # kHz\n",
    "vsound = 330 # m/s\n",
    "wavelength = vsound/frequency\n",
    "alpha_value = mpf(np.radians(60))\n",
    "k_value = mpf(2*np.pi/(wavelength))\n",
    "ka = 5\n",
    "a_value = ka/k_value \n",
    "R_value = a_value/mpmath.sin(alpha_value) # m\n"
   ]
  },
  {
   "cell_type": "code",
   "execution_count": 23,
   "id": "level-cliff",
   "metadata": {},
   "outputs": [],
   "source": [
    "params = {'k':k_value, 'a':a_value, 'R':R_value, 'alpha':alpha_value}"
   ]
  },
  {
   "cell_type": "code",
   "execution_count": 24,
   "id": "allied-pacific",
   "metadata": {},
   "outputs": [
    {
     "name": "stderr",
     "output_type": "stream",
     "text": [
      "100%|██████████| 100/100 [18:38<00:00, 11.19s/it]\n"
     ]
    }
   ],
   "source": [
    "rowcol = [ ]\n",
    "for eachn in range(Nv):\n",
    "    for eachm in range(Nv):\n",
    "        rowcol.append((eachm,eachn))\n",
    "\n",
    "#M_values = Parallel(n_jobs=4)( delayed(M_mn_func)(pos[0], pos[1], k_value, R_value, alpha_value)  for pos in tqdm.tqdm(rowcol))\n",
    "M_values = [M_mn_func(pos[0], pos[1], params['k'], params['R'], params['alpha'])  for pos in tqdm.tqdm(rowcol)]\n"
   ]
  },
  {
   "cell_type": "code",
   "execution_count": 25,
   "id": "specific-circus",
   "metadata": {},
   "outputs": [],
   "source": [
    "for each_m in range(Nv):\n",
    "    #M_matrix[each_m, each_n] = M_mn_func(each_m, each_n, k_value, R_value, alpha_value)\n",
    "    b_matrix[each_m,:] = b_func(each_m, alpha_value)\n",
    "for i,pos in enumerate(rowcol):\n",
    "    M_matrix[pos[0],pos[1]] = M_values[i]"
   ]
  },
  {
   "cell_type": "code",
   "execution_count": 26,
   "id": "tribal-hudson",
   "metadata": {},
   "outputs": [],
   "source": [
    "a_matrix = mpmath.lu_solve(M_matrix,b_matrix)"
   ]
  },
  {
   "cell_type": "code",
   "execution_count": 27,
   "id": "bulgarian-ground",
   "metadata": {},
   "outputs": [
    {
     "data": {
      "text/plain": [
       "10"
      ]
     },
     "execution_count": 27,
     "metadata": {},
     "output_type": "execute_result"
    }
   ],
   "source": [
    "a_matrix.rows"
   ]
  },
  {
   "cell_type": "code",
   "execution_count": 28,
   "id": "contemporary-pressure",
   "metadata": {},
   "outputs": [],
   "source": [
    "legendre_func = lambdify((m, x), legendre(m, x),'mpmath')\n",
    "def d_theta(angle,k_v,R_v,alpha_v,An):\n",
    "    num = 4 \n",
    "    N_v = An.rows\n",
    "    denom  = (k_v**2)*(R_v**2)*mpmath.sin(alpha_v)**2\n",
    "    part1 = num/denom\n",
    "    jn_matrix = np.array([1j**f for f in range(N_v)])\n",
    "    legendre_matrix = np.array([legendre_func(n_v, np.cos(angle)) for n_v in range(N_v)])\n",
    "    part2_matrix = np.column_stack((An, jn_matrix, legendre_matrix))\n",
    "    part2 = np.sum(np.apply_along_axis(lambda X: X[0]*X[1]*X[2], 1, part2_matrix))\n",
    "    rel_level = - part1*part2\n",
    "    return rel_level\n",
    "\n",
    "def d_zero(k_v,R_v,alpha_v,An):\n",
    "    num = 4 \n",
    "    N_v = An.rows\n",
    "    denom  = (k_v**2)*(R_v**2)*mpmath.sin(alpha_v)**2\n",
    "    part1 = num/denom\n",
    "    jn_matrix = np.array([1j**f for f in range(N_v)])\n",
    "    part2_matrix = np.column_stack((An, jn_matrix))\n",
    "    part2 = np.sum(np.apply_along_axis(lambda X: X[0]*X[1], 1, part2_matrix))\n",
    "    rel_level = - part1*part2\n",
    "    return rel_level\n",
    "\n",
    "def relative_directionality_db(angle,k_v,R_v,alpha_v,An):\n",
    "    off_axis = d_theta(angle,k_v,R_v,alpha_v,An)\n",
    "    on_axis = d_zero(k_v,R_v,alpha_v,An)\n",
    "    rel_level = 20*mpmath.log10(abs(off_axis/on_axis))\n",
    "    return rel_level"
   ]
  },
  {
   "cell_type": "code",
   "execution_count": 29,
   "id": "ethical-analyst",
   "metadata": {},
   "outputs": [],
   "source": [
    "\n",
    "angles = np.linspace(0,2*np.pi,200)\n",
    "dirnlty = [relative_directionality_db(angle_v, k_value, R_value,alpha_value,a_matrix) for angle_v in angles]\n"
   ]
  },
  {
   "cell_type": "code",
   "execution_count": 36,
   "id": "continent-spray",
   "metadata": {},
   "outputs": [
    {
     "data": {
      "image/png": "[encoded data removed]",
      "text/plain": [
       "<Figure size 432x288 with 1 Axes>"
      ]
     },
     "metadata": {
      "needs_background": "light"
     },
     "output_type": "display_data"
    }
   ],
   "source": [
    "plt.figure()\n",
    "a0 = plt.subplot(111, projection='polar')\n",
    "plt.plot(angles, dirnlty)\n",
    "plt.ylim(-40,0);plt.yticks([0,-10,-20,-30,-40]);\n",
    "plt.xticks(np.radians(np.arange(0,360,30)));"
   ]
  },
  {
   "cell_type": "code",
   "execution_count": null,
   "id": "generous-noise",
   "metadata": {},
   "outputs": [],
   "source": []
  }
 ],
 "metadata": {
  "kernelspec": {
   "display_name": "Python 3",
   "language": "python",
   "name": "python3"
  },
  "language_info": {
   "codemirror_mode": {
    "name": "ipython",
    "version": 3
   },
   "file_extension": ".py",
   "mimetype": "text/x-python",
   "name": "python",
   "nbconvert_exporter": "python",
   "pygments_lexer": "ipython3",
   "version": "3.8.5"
  }
 },
 "nbformat": 4,
 "nbformat_minor": 5
}
