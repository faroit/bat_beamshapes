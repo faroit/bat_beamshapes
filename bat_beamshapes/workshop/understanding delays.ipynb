{
 "cells": [
  {
   "cell_type": "markdown",
   "id": "better-process",
   "metadata": {},
   "source": [
    "# Is Sympy really 'slow'?\n",
    "I don't want to be a bad carpenter who blames his tools. Here're my attempts at understanding why my Sympy code is slow. The technical specs of my computer may have a lot to do with the long time things are taking to run, though, any techniques I discover to speed up computation will have a speed up on any system I suppose. \n",
    "\n",
    "Ultimately my goal is to have integral and linear algebra routines that can run at sub-second speed, and preferrably a few ms. "
   ]
  },
  {
   "cell_type": "markdown",
   "id": "stupid-salon",
   "metadata": {},
   "source": [
    "## Potential things to try out \n",
    "\n",
    "* ~~I may have been using the wrong Python version of Theano. The [docs](https://theano-pymc.readthedocs.io/en/latest/requirements.html) say official support for Theano is only there for Python <3.6.~~ \n",
    "    * ~~install Sympy, Theano nd pyMC3~~ *This doesn't work because Theano didn't seem to recognise 'external' sympy functions, eg. legendre*\n",
    "    \n",
    "* With ```lambdify``` use the 'mpmath' module as a backend. This *really* sped up computations, in comparison to the default (sympy?) backend module. \n",
    "\n",
    "* ~~Linux specific: change the 'niceness'of the process and so the CPU spends more time on the code.~~~\n",
    "\n",
    "## Latest realisation\n",
    "* I've been using the 'normal' Hankel function instead of the spherical Hankel function. This is probably the main reason why my results are off all the time!!!!!"
   ]
  },
  {
   "cell_type": "code",
   "execution_count": 1,
   "id": "serial-friday",
   "metadata": {},
   "outputs": [],
   "source": [
    "#from joblib import Parallel, delayed\n",
    "#from joblib import wrap_non_picklable_objects\n",
    "from gmpy2 import *\n",
    "import matplotlib.pyplot as plt\n",
    "import mpmath\n",
    "from mpmath import mpf\n",
    "dps = 50; mpmath.mp.dps = dps\n",
    "import numpy as np\n",
    "#from scipy.special import jv as bessel_firstkind\n",
    "from symengine import * \n",
    "import sympy\n",
    "from sympy import jn,yn ,symbols, legendre, sin, cos, tan, summation, I, oo, diff, pi, sqrt\n",
    "from sympy import factor_terms, Matrix, besselj, bessely, Piecewise\n",
    "from sympy import Abs, lambdify, integrate, expand,integrate, Integral\n",
    "from sympy.printing.theanocode import theano_function\n",
    "from sympy.utilities.autowrap import autowrap\n",
    "import tqdm\n",
    "x, alpha, gamma, index, k, m,n,p, r1, R, theta, y, z = symbols('x alpha gamma index k m n p r1 R theta,y,z')\n",
    "from sympy import N, cse\n",
    "\n",
    "from sympy.printing.theanocode import theano_function\n",
    "num_sumterms = 50"
   ]
  },
  {
   "cell_type": "code",
   "execution_count": 2,
   "id": "played-topic",
   "metadata": {},
   "outputs": [],
   "source": [
    "from sympy import besselj"
   ]
  },
  {
   "cell_type": "code",
   "execution_count": 3,
   "id": "minor-width",
   "metadata": {},
   "outputs": [],
   "source": [
    "sph_bessel1 = besselj(n+1/2,z)*sqrt(pi/(2*z))\n",
    "sph_bessel2 = bessely(n+1/2,z)*sqrt(pi/(2*z))\n",
    "sph_hankel2 = sph_bessel1 - I*sph_bessel2\n",
    "#sph_hankel2 = lambdify([n, p], sph_bessel1(n,p)-I*sph_bessel2(n,p), 'mpmath')"
   ]
  },
  {
   "cell_type": "code",
   "execution_count": 4,
   "id": "indonesian-hepatitis",
   "metadata": {},
   "outputs": [
    {
     "data": {
      "text/latex": [
       "$\\displaystyle \\frac{\\sqrt{2} \\sqrt{\\pi} \\sqrt{\\frac{1}{z}}}{2}$"
      ],
      "text/plain": [
       "sqrt(2)*sqrt(pi)*sqrt(1/z)/2"
      ]
     },
     "execution_count": 4,
     "metadata": {},
     "output_type": "execute_result"
    }
   ],
   "source": [
    "sqrt(pi/(2*z))"
   ]
  },
  {
   "cell_type": "code",
   "execution_count": 5,
   "id": "another-stand",
   "metadata": {},
   "outputs": [],
   "source": [
    "r1 = (R*cos(alpha))/cos(theta)"
   ]
  },
  {
   "cell_type": "code",
   "execution_count": 6,
   "id": "conservative-discussion",
   "metadata": {},
   "outputs": [],
   "source": [
    "subs_dict = {'alpha':mpmath.pi/18, 'k':5,'R':mpf(0.1), 'm':20,'n':10}"
   ]
  },
  {
   "cell_type": "code",
   "execution_count": 7,
   "id": "sought-governor",
   "metadata": {},
   "outputs": [],
   "source": [
    "Lm_expr = legendre(m,cos(theta))*(r1**2/R**2)*tan(theta)\n",
    "Lm = Integral(Lm_expr, (theta,0,alpha))#.doit(meijerg=True)\n",
    "Lmexpr_func = lambdify([m, R, alpha,theta], Lm_expr, 'mpmath')\n",
    "Lm_func = lambdify([m, R, alpha], Lm, 'mpmath') # numerical integrtion of eqn. 12.108"
   ]
  },
  {
   "cell_type": "code",
   "execution_count": 8,
   "id": "least-seating",
   "metadata": {},
   "outputs": [],
   "source": [
    "# eqn 12.107\n",
    "Kmn_expr = legendre(n, cos(theta))*legendre(m, cos(theta))*sin(theta) # the integrl of this expression \n",
    "# has a solution given in Appendix II, eqn 70\n",
    "legendre_1stderiv = diff(legendre(n,z),z)\n",
    "# when m != n\n",
    "num_legendre_term1 = legendre(m,cos(alpha))*legendre_1stderiv.subs({'z':cos(alpha)})\n",
    "num_legendre_term2 = legendre(n,cos(alpha))*legendre_1stderiv.subs({'n':m,'z':cos(alpha)})\n",
    "eqn70_mnoteqn = sin(alpha)*(num_legendre_term1-num_legendre_term2)/(m*(m+1)-n*(n+1))\n",
    "\n",
    "# when m==n\n",
    "summn_funcn = legendre(index,cos(alpha))*(legendre(index,cos(alpha))*cos(alpha)-legendre(index+1,cos(alpha)))\n",
    "# substituting 'j' for 'index' because j is also used for sqrt(-1) all through the book!!\n",
    "\n",
    "meqn_sumterm = 2*summation(summn_funcn, (index,1,m-1))\n",
    "eqn70_meqn = (1+ cos(alpha)*legendre(m,cos(alpha))**2 + meqn_sumterm)/(2*m+1)"
   ]
  },
  {
   "cell_type": "code",
   "execution_count": null,
   "id": "robust-monday",
   "metadata": {},
   "outputs": [],
   "source": []
  },
  {
   "cell_type": "code",
   "execution_count": 9,
   "id": "australian-courtesy",
   "metadata": {},
   "outputs": [],
   "source": [
    "Kmn = Piecewise((eqn70_mnoteqn,m>n),(eqn70_mnoteqn,m<n), (eqn70_meqn,True), )\n",
    "Kmn_func = lambdify([m,n,alpha],Kmn,'mpmath')"
   ]
  },
  {
   "cell_type": "code",
   "execution_count": 10,
   "id": "everyday-hopkins",
   "metadata": {},
   "outputs": [
    {
     "data": {
      "text/latex": [
       "$\\displaystyle \\begin{cases} \\frac{\\left(- \\frac{m \\left(\\cos{\\left(\\alpha \\right)} P_{m}\\left(\\cos{\\left(\\alpha \\right)}\\right) - P_{m - 1}\\left(\\cos{\\left(\\alpha \\right)}\\right)\\right) P_{n}\\left(\\cos{\\left(\\alpha \\right)}\\right)}{\\cos^{2}{\\left(\\alpha \\right)} - 1} + \\frac{n \\left(\\cos{\\left(\\alpha \\right)} P_{n}\\left(\\cos{\\left(\\alpha \\right)}\\right) - P_{n - 1}\\left(\\cos{\\left(\\alpha \\right)}\\right)\\right) P_{m}\\left(\\cos{\\left(\\alpha \\right)}\\right)}{\\cos^{2}{\\left(\\alpha \\right)} - 1}\\right) \\sin{\\left(\\alpha \\right)}}{m \\left(m + 1\\right) - n \\left(n + 1\\right)} & \\text{for}\\: m > n \\vee m < n \\\\\\frac{\\cos{\\left(\\alpha \\right)} \\left(P_{m}\\left(\\cos{\\left(\\alpha \\right)}\\right)\\right)^{2} + 2 \\sum_{index=1}^{m - 1} \\left(\\cos{\\left(\\alpha \\right)} P_{index}\\left(\\cos{\\left(\\alpha \\right)}\\right) - P_{index + 1}\\left(\\cos{\\left(\\alpha \\right)}\\right)\\right) P_{index}\\left(\\cos{\\left(\\alpha \\right)}\\right) + 1}{2 m + 1} & \\text{otherwise} \\end{cases}$"
      ],
      "text/plain": [
       "Piecewise(((-m*(cos(alpha)*legendre(m, cos(alpha)) - legendre(m - 1, cos(alpha)))*legendre(n, cos(alpha))/(cos(alpha)**2 - 1) + n*(cos(alpha)*legendre(n, cos(alpha)) - legendre(n - 1, cos(alpha)))*legendre(m, cos(alpha))/(cos(alpha)**2 - 1))*sin(alpha)/(m*(m + 1) - n*(n + 1)), (m > n) | (m < n)), ((cos(alpha)*legendre(m, cos(alpha))**2 + 2*Sum((cos(alpha)*legendre(index, cos(alpha)) - legendre(index + 1, cos(alpha)))*legendre(index, cos(alpha)), (index, 1, m - 1)) + 1)/(2*m + 1), True))"
      ]
     },
     "execution_count": 10,
     "metadata": {},
     "output_type": "execute_result"
    }
   ],
   "source": [
    "Kmn"
   ]
  },
  {
   "cell_type": "code",
   "execution_count": 11,
   "id": "changing-consumer",
   "metadata": {},
   "outputs": [],
   "source": [
    "\n",
    "alternate_hankels = n*sph_hankel2.subs({'n':n-1, 'z':k*r1})-(n+1)*sph_hankel2.subs({'n':n+1, 'z':k*r1})\n",
    "pt1_postterm = legendre(n,cos(theta))*cos(theta)\n",
    "Imn_pt1 = alternate_hankels*pt1_postterm\n",
    "\n",
    "pt2_preterm = n*(n+1)*sph_hankel2.subs({'z':k*r1})\n",
    "alternate_legendres = (legendre(n-1,cos(theta))-legendre(n+1,cos(theta)))/(k*r1)\n",
    "Imn_pt2 = pt2_preterm*alternate_legendres\n",
    "\n",
    "whole_postterm = legendre(m,cos(theta))*(r1**2/R**2)*tan(theta)\n",
    "\n",
    "Imn_term = (Imn_pt1 + Imn_pt2)*whole_postterm # eqn. 12.106\n",
    "Imn = Integral(Imn_term,(theta,0,alpha))\n",
    "Imn_term_func = lambdify([m,n,k,R,alpha,theta], Imn_term, 'mpmath')\n",
    "Imn_func = lambdify([m,n,k,R,alpha],Imn,'mpmath') \n"
   ]
  },
  {
   "cell_type": "code",
   "execution_count": 12,
   "id": "banner-newman",
   "metadata": {},
   "outputs": [],
   "source": [
    "\n",
    "def imn_quad_value(params):\n",
    "    variables = ['m','n','k','R','alpha']    \n",
    "    imn_onlytheta = Imn_term.subs({each: params[each] for each in variables})\n",
    "    imn_onlytheta_f = lambdify([theta],imn_onlytheta,'mpmath')\n",
    "    # try breaking 0-alpha into 10 parts if the error is  too high - with mpmath.linspace?\n",
    "    return mpmath.quad(imn_onlytheta_f,[0,params['alpha']],error=True)"
   ]
  },
  {
   "cell_type": "raw",
   "id": "heated-trust",
   "metadata": {},
   "source": [
    "params['m'] = 5\n",
    "params['n'] = 20\n",
    "imn_value = imn_quad_value(params)\n",
    "print(imn_value)"
   ]
  },
  {
   "cell_type": "raw",
   "id": "spatial-composition",
   "metadata": {},
   "source": [
    "out1 = Imn_func(10,10,subs_dict['k'],subs_dict['R'],subs_dict['alpha'])\n",
    "out2 = Imn2_func(10,10,subs_dict['k'],subs_dict['R'],subs_dict['alpha'])"
   ]
  },
  {
   "cell_type": "raw",
   "id": "3a2aaaf3",
   "metadata": {},
   "source": [
    "print(out1.real/out2.real, out1.imag/out2.imag, abs(out1)/abs(out2))"
   ]
  },
  {
   "cell_type": "code",
   "execution_count": 13,
   "id": "596c2a44",
   "metadata": {},
   "outputs": [
    {
     "data": {
      "text/plain": [
       "<matplotlib.legend.Legend at 0x7f6a1da9f670>"
      ]
     },
     "execution_count": 13,
     "metadata": {},
     "output_type": "execute_result"
    },
    {
     "data": {
      "image/png": "[encoded data removed]",
      "text/plain": [
       "<Figure size 432x288 with 3 Axes>"
      ]
     },
     "metadata": {
      "needs_background": "light"
     },
     "output_type": "display_data"
    }
   ],
   "source": [
    "mv,nv = 2,15\n",
    "npts = 100\n",
    "imn_values = mpmath.matrix(1,npts)\n",
    "angles = np.linspace(0,float(subs_dict['alpha']),npts)\n",
    "for i,each in enumerate(angles):\n",
    "    imn_values[i] = Imn_term_func(mv,nv,subs_dict['k'],subs_dict['R'],subs_dict['alpha'],each)\n",
    "real_imn = [each.real for each in imn_values]\n",
    "imag_imn = [each.imag for each in imn_values]\n",
    "abs_imn = [abs(each) for each in imn_values]\n",
    "\n",
    "plt.figure()\n",
    "plt.subplot(131)\n",
    "plt.plot(angles, real_imn,label='real');plt.legend()\n",
    "plt.subplot(132)\n",
    "plt.plot(angles, imag_imn,label='imag');plt.legend()\n",
    "plt.xlabel('$\\\\theta$, radians')\n",
    "plt.subplot(133)\n",
    "plt.plot(angles, abs_imn,label='abs');plt.legend()\n"
   ]
  },
  {
   "cell_type": "markdown",
   "id": "5df2fa21",
   "metadata": {},
   "source": [
    "### Broadly speaking, the Imn function is fairly smooth, and so numerical integration shouldn't be such a problem?"
   ]
  },
  {
   "cell_type": "code",
   "execution_count": 14,
   "id": "awful-safety",
   "metadata": {},
   "outputs": [],
   "source": [
    "frequency = 50*10**3 # kHz\n",
    "vsound = 330 # m/s\n",
    "wavelength = vsound/frequency\n",
    "alpha_value = mpmath.pi/3 # 60 degrees --> pi/3\n",
    "k_value = 2*mpmath.pi/(wavelength)\n",
    "ka = 5\n",
    "a_value = ka/k_value \n",
    "R_value = a_value/mpmath.sin(alpha_value) # m\n"
   ]
  },
  {
   "cell_type": "code",
   "execution_count": 15,
   "id": "rural-success",
   "metadata": {},
   "outputs": [],
   "source": [
    "Nv = 12 + int(2*ka/sin(alpha_value))\n",
    "M_matrix = mpmath.matrix(Nv,Nv)\n",
    "b_matrix = mpmath.matrix(Nv,1)\n",
    "\n"
   ]
  },
  {
   "cell_type": "code",
   "execution_count": 16,
   "id": "right-eclipse",
   "metadata": {},
   "outputs": [],
   "source": [
    "b = -I*Lm\n",
    "b_func = lambdify([m,alpha], b,'mpmath') # eqn. 12.104"
   ]
  },
  {
   "cell_type": "code",
   "execution_count": 17,
   "id": "interior-xerox",
   "metadata": {},
   "outputs": [],
   "source": [
    "params = {'k':k_value, 'a':a_value, 'R':R_value, 'alpha':alpha_value}"
   ]
  },
  {
   "cell_type": "code",
   "execution_count": 18,
   "id": "finished-module",
   "metadata": {},
   "outputs": [],
   "source": [
    "mmn_hankels = n*sph_hankel2.subs({'n':n-1,'z':k*R})-(n+1)*sph_hankel2.subs({'n':n+1,'z':k*R})\n",
    "mmn_hankels_func = lambdify([n,k,R], mmn_hankels,'mpmath')"
   ]
  },
  {
   "cell_type": "code",
   "execution_count": null,
   "id": "rocky-gates",
   "metadata": {},
   "outputs": [],
   "source": []
  },
  {
   "cell_type": "code",
   "execution_count": null,
   "id": "protecting-corruption",
   "metadata": {},
   "outputs": [
    {
     "name": "stderr",
     "output_type": "stream",
     "text": [
      " 52%|█████▏    | 12/23 [05:24<05:04, 27.71s/it]"
     ]
    }
   ],
   "source": [
    "all_quaderrors = []\n",
    "for i in tqdm.trange(Nv):\n",
    "    for j in range(Nv):\n",
    "        params['m'],params['n'] = i,j\n",
    "        Imn_value = Imn_func(params['m'], params['n'],params['k'],params['R'],params['alpha'])\n",
    "        Kmn_value = Kmn_func(params['m'],params['n'],params['alpha'])\n",
    "        numerator_hankels = mmn_hankels_func(j,params['k'],params['R'])\n",
    "        numerator = Imn_value+ numerator_hankels*Kmn_value\n",
    "        denom = 2*params['n']+1\n",
    "        M_matrix[params['m'],params['n']] = numerator/denom\n"
   ]
  },
  {
   "cell_type": "code",
   "execution_count": null,
   "id": "nuclear-syndication",
   "metadata": {},
   "outputs": [],
   "source": [
    "all_quaderrors"
   ]
  },
  {
   "cell_type": "code",
   "execution_count": null,
   "id": "described-commander",
   "metadata": {},
   "outputs": [],
   "source": [
    "for each_m in range(Nv):\n",
    "    #M_matrix[each_m, each_n] = M_mn_func(each_m, each_n, k_value, R_value, alpha_value)\n",
    "    b_matrix[each_m,:] = b_func(each_m, alpha_value)"
   ]
  },
  {
   "cell_type": "raw",
   "id": "spatial-armenia",
   "metadata": {},
   "source": [
    "#a_matrix = mpmath.lu_solve(M_matrix,b_matrix) -# fast but dirty \n",
    "a_matrix,res = mpmath.qr_solve(M_matrix,b_matrix) # slow but reliable"
   ]
  },
  {
   "cell_type": "code",
   "execution_count": null,
   "id": "running-naples",
   "metadata": {},
   "outputs": [],
   "source": [
    "a_matrix = mpmath.inverse(M_matrix)*b_matrix"
   ]
  },
  {
   "cell_type": "code",
   "execution_count": null,
   "id": "placed-shaft",
   "metadata": {},
   "outputs": [],
   "source": [
    "legendre_func = lambdify((m, x), legendre(m, x),'mpmath')"
   ]
  },
  {
   "cell_type": "code",
   "execution_count": null,
   "id": "wired-radical",
   "metadata": {},
   "outputs": [],
   "source": [
    "#summn_term = A_n[index]*(I**index)*legendre(index,mpmath.cos(theta))\n",
    "#summn_value = summation(summn_term, (index,0,N_v))\n",
    "\n",
    "\n",
    "def d_theta(angle,k_v,R_v,alpha_v,An):\n",
    "    num = 4 \n",
    "    N_v = An.rows\n",
    "    denom  = (k_v**2)*(R_v**2)*mpmath.sin(alpha_v)**2\n",
    "    part1 = num/denom\n",
    "    jn_matrix = np.array([1j**f for f in range(N_v)])\n",
    "    legendre_matrix = mpmath.matrix([legendre(n_v, mpmath.cos(angle)) for n_v in range(N_v)])\n",
    "    part2_matrix = np.column_stack((An, jn_matrix, legendre_matrix))\n",
    "    part2 = np.sum(np.apply_along_axis(lambda X: X[0]*X[1]*X[2], 1, part2_matrix))\n",
    "    \n",
    "    rel_level = - part1*part2\n",
    "    return rel_level\n",
    "\n",
    "def d_zero(k_v,R_v,alpha_v,An):\n",
    "    num = 4 \n",
    "    N_v = An.rows\n",
    "    denom  = (k_v**2)*(R_v**2)*mpmath.sin(alpha_v)**2\n",
    "    part1 = num/denom\n",
    "    jn_matrix = np.array([1j**f for f in range(N_v)])\n",
    "    part2_matrix = np.column_stack((An, jn_matrix))\n",
    "    part2 = np.sum(np.apply_along_axis(lambda X: X[0]*X[1], 1, part2_matrix))\n",
    "    rel_level = - part1*part2\n",
    "    return rel_level\n",
    "\n",
    "def relative_directionality_db(angle,k_v,R_v,alpha_v,An):\n",
    "    off_axis = d_theta(angle,k_v,R_v,alpha_v,An)\n",
    "    on_axis = d_zero(k_v,R_v,alpha_v,An)\n",
    "    rel_level = 20*mpmath.log10(abs(off_axis/on_axis))\n",
    "    return rel_level"
   ]
  },
  {
   "cell_type": "code",
   "execution_count": null,
   "id": "canadian-history",
   "metadata": {},
   "outputs": [],
   "source": [
    "\n",
    "angles = mpmath.linspace(0,2*mpmath.pi,200)\n",
    "dirnlty = [relative_directionality_db(angle_v, k_value, R_value,alpha_value,a_matrix) for angle_v in angles]\n"
   ]
  },
  {
   "cell_type": "code",
   "execution_count": null,
   "id": "written-calgary",
   "metadata": {},
   "outputs": [],
   "source": [
    "plt.figure()\n",
    "a0 = plt.subplot(111, projection='polar')\n",
    "plt.plot(angles, dirnlty)\n",
    "plt.ylim(-40,0);plt.yticks([0,-10,-20,-30,-40]);\n",
    "plt.xticks(np.radians(np.arange(0,360,30)));"
   ]
  },
  {
   "cell_type": "code",
   "execution_count": null,
   "id": "massive-explorer",
   "metadata": {},
   "outputs": [],
   "source": []
  }
 ],
 "metadata": {
  "kernelspec": {
   "display_name": "Python 3",
   "language": "python",
   "name": "python3"
  },
  "language_info": {
   "codemirror_mode": {
    "name": "ipython",
    "version": 3
   },
   "file_extension": ".py",
   "mimetype": "text/x-python",
   "name": "python",
   "nbconvert_exporter": "python",
   "pygments_lexer": "ipython3",
   "version": "3.8.5"
  }
 },
 "nbformat": 4,
 "nbformat_minor": 5
}
