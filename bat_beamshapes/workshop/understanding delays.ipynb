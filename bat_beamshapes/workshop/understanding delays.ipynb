{
 "cells": [
  {
   "cell_type": "markdown",
   "id": "better-process",
   "metadata": {},
   "source": [
    "# Is Sympy really 'slow'?\n",
    "I don't want to be a bad carpenter who blames his tools. Here're my attempts at understanding why my Sympy code is slow. The technical specs of my computer may have a lot to do with the long time things are taking to run, though, any techniques I discover to speed up computation will have a speed up on any system I suppose. \n",
    "\n",
    "Ultimately my goal is to have integral and linear algebra routines that can run at sub-second speed, and preferrably a few ms. "
   ]
  },
  {
   "cell_type": "markdown",
   "id": "stupid-salon",
   "metadata": {},
   "source": [
    "## Potential things to try out \n",
    "\n",
    "* ~~I may have been using the wrong Python version of Theano. The [docs](https://theano-pymc.readthedocs.io/en/latest/requirements.html) say official support for Theano is only there for Python <3.6.~~ \n",
    "    * ~~install Sympy, Theano nd pyMC3~~ *This doesn't work because Theano didn't seem to recognise 'external' sympy functions, eg. legendre*\n",
    "    \n",
    "* With ```lambdify``` use the 'mpmath' module as a backend. This *really* sped up computations, in comparison to the default (sympy?) backend module. \n",
    "\n",
    "* ~~Linux specific: change the 'niceness'of the process and so the CPU spends more time on the code.~~~\n",
    "\n",
    "## Latest realisation\n",
    "* I've been using the 'normal' Hankel function instead of the spherical Hankel function. This is probably the main reason why my results are off all the time!!!!!"
   ]
  },
  {
   "cell_type": "code",
   "execution_count": 1,
   "id": "serial-friday",
   "metadata": {},
   "outputs": [],
   "source": [
    "#from joblib import Parallel, delayed\n",
    "#from joblib import wrap_non_picklable_objects\n",
    "from gmpy2 import *\n",
    "import matplotlib.pyplot as plt\n",
    "import mpmath\n",
    "from mpmath import mpf\n",
    "dps = 300; mpmath.mp.dps = dps\n",
    "import numpy as np\n",
    "#from scipy.special import jv as bessel_firstkind\n",
    "from symengine import * \n",
    "import sympy\n",
    "from sympy import jn,yn ,symbols, legendre, sin, cos, tan, summation, I, oo, diff, pi, sqrt\n",
    "from sympy import factor_terms, Matrix, besselj, bessely, Piecewise\n",
    "from sympy import Abs, lambdify, integrate, expand,integrate, Integral\n",
    "from sympy.printing.theanocode import theano_function\n",
    "from sympy.utilities.autowrap import autowrap\n",
    "import tqdm\n",
    "x, alpha, gamma, index, k, m,n,p, r1, R, theta, y, z = symbols('x alpha gamma index k m n p r1 R theta,y,z')\n",
    "from sympy import N, cse\n",
    "\n",
    "from sympy.printing.theanocode import theano_function\n",
    "num_sumterms = 50"
   ]
  },
  {
   "cell_type": "code",
   "execution_count": 2,
   "id": "played-topic",
   "metadata": {},
   "outputs": [],
   "source": [
    "from sympy import besselj"
   ]
  },
  {
   "cell_type": "code",
   "execution_count": 3,
   "id": "verbal-single",
   "metadata": {},
   "outputs": [
    {
     "data": {
      "text/latex": [
       "$\\displaystyle i y_{10}\\left(0.5\\right)$"
      ],
      "text/plain": [
       "I*yn(10, 0.5)"
      ]
     },
     "execution_count": 3,
     "metadata": {},
     "output_type": "execute_result"
    }
   ],
   "source": [
    "I*yn(10,0.5)"
   ]
  },
  {
   "cell_type": "code",
   "execution_count": 4,
   "id": "adult-virus",
   "metadata": {},
   "outputs": [],
   "source": [
    "o = (pi/(2*z))**0.5"
   ]
  },
  {
   "cell_type": "code",
   "execution_count": 5,
   "id": "minor-width",
   "metadata": {},
   "outputs": [],
   "source": [
    "sph_bessel1 = besselj(n+1/2,z)*(pi/(2*z))**0.5\n",
    "sph_bessel2 = bessely(n+1/2,z)*(pi/(2*z))**0.5\n",
    "sph_hankel2 = sph_bessel1 - I*sph_bessel2\n",
    "#sph_hankel2 = lambdify([n, p], sph_bessel1(n,p)-I*sph_bessel2(n,p), 'mpmath')"
   ]
  },
  {
   "cell_type": "code",
   "execution_count": 6,
   "id": "criminal-garbage",
   "metadata": {},
   "outputs": [
    {
     "data": {
      "text/latex": [
       "$\\displaystyle 0.707106781186548 \\pi^{0.5} \\left(\\frac{1}{z}\\right)^{0.5} Y_{n + 0.5}\\left(z\\right)$"
      ],
      "text/plain": [
       "0.707106781186548*pi**0.5*(1/z)**0.5*bessely(n + 0.5, z)"
      ]
     },
     "execution_count": 6,
     "metadata": {},
     "output_type": "execute_result"
    }
   ],
   "source": [
    "sph_bessel2"
   ]
  },
  {
   "cell_type": "code",
   "execution_count": 7,
   "id": "another-stand",
   "metadata": {},
   "outputs": [],
   "source": [
    "r1 = (R*cos(alpha))/cos(theta)"
   ]
  },
  {
   "cell_type": "code",
   "execution_count": 8,
   "id": "conservative-discussion",
   "metadata": {},
   "outputs": [],
   "source": [
    "subs_dict = {'alpha':mpmath.pi/18, 'k':5,'R':mpf(0.1), 'm':20,'n':10}"
   ]
  },
  {
   "cell_type": "code",
   "execution_count": 9,
   "id": "sought-governor",
   "metadata": {},
   "outputs": [],
   "source": [
    "Lm_expr = legendre(m,cos(theta))*(r1**2/R**2)*tan(theta)\n",
    "\n",
    "Lm = Integral(Lm_expr, (theta,0,alpha))#.doit(meijerg=True)"
   ]
  },
  {
   "cell_type": "code",
   "execution_count": 10,
   "id": "cross-crowd",
   "metadata": {},
   "outputs": [],
   "source": [
    "Lmexpr_func = lambdify([m, R, alpha,theta], Lm_expr, 'mpmath')\n",
    "Lm_func = lambdify([m, R, alpha], Lm, 'mpmath')"
   ]
  },
  {
   "cell_type": "code",
   "execution_count": 11,
   "id": "therapeutic-metadata",
   "metadata": {},
   "outputs": [
    {
     "data": {
      "text/plain": [
       "<matplotlib.collections.LineCollection at 0x7fa211951250>"
      ]
     },
     "execution_count": 11,
     "metadata": {},
     "output_type": "execute_result"
    },
    {
     "data": {
      "image/png": "[encoded data removed]",
      "text/plain": [
       "<Figure size 432x288 with 1 Axes>"
      ]
     },
     "metadata": {
      "needs_background": "light"
     },
     "output_type": "display_data"
    }
   ],
   "source": [
    "thetas = np.linspace(0,np.pi/3,50)\n",
    "lmfunc = [Lmexpr_func(80,subs_dict['R'],subs_dict['alpha'],each) for each in thetas]\n",
    "plt.figure()\n",
    "plt.plot(thetas, lmfunc)\n",
    "plt.vlines(thetas,-0.1,0.1)"
   ]
  },
  {
   "cell_type": "code",
   "execution_count": 12,
   "id": "compliant-better",
   "metadata": {},
   "outputs": [
    {
     "name": "stdout",
     "output_type": "stream",
     "text": [
      "CPU times: user 10.9 ms, sys: 798 µs, total: 11.7 ms\n",
      "Wall time: 11.5 ms\n"
     ]
    },
    {
     "data": {
      "text/latex": [
       "$\\displaystyle \\int\\limits_{0}^{0.174532925199432957692369076848861271344287188854172545609719144017100911460344944368224156963450948221230449250737905924838546922752810123984742189340471173191682450150107695616975535812386053051687886912711720870329635896026424901877043509181733439396980475940192241589469684813789632978181124952293} \\frac{0.969846310392954192027054638662365734968104067132232316545143331387110605497944729474872944918974033730960817398294313288485348932880651035479140561807004293999950264158603233101774083020590157375568357766537288398870110357001140760571205464234359534333409829879224962958951982263287877818111235427506 \\left(\\frac{34461632205 \\cos^{20}{\\left(\\theta \\right)}}{262144} - \\frac{83945001525 \\cos^{18}{\\left(\\theta \\right)}}{131072} + \\frac{347123925225 \\cos^{16}{\\left(\\theta \\right)}}{262144} - \\frac{49589132175 \\cos^{14}{\\left(\\theta \\right)}}{32768} + \\frac{136745788725 \\cos^{12}{\\left(\\theta \\right)}}{131072} - \\frac{29113619535 \\cos^{10}{\\left(\\theta \\right)}}{65536} + \\frac{15058768725 \\cos^{8}{\\left(\\theta \\right)}}{131072} - \\frac{557732175 \\cos^{6}{\\left(\\theta \\right)}}{32768} + \\frac{334639305 \\cos^{4}{\\left(\\theta \\right)}}{262144} - \\frac{4849845 \\cos^{2}{\\left(\\theta \\right)}}{131072} + \\frac{46189}{262144}\\right) \\tan{\\left(\\theta \\right)}}{\\cos^{2}{\\left(\\theta \\right)}}\\, d\\theta$"
      ],
      "text/plain": [
       "Integral(0.969846310392954192027054638662365734968104067132232316545143331387110605497944729474872944918974033730960817398294313288485348932880651035479140561807004293999950264158603233101774083020590157375568357766537288398870110357001140760571205464234359534333409829879224962958951982263287877818111235427506*(34461632205*cos(theta)**20/262144 - 83945001525*cos(theta)**18/131072 + 347123925225*cos(theta)**16/262144 - 49589132175*cos(theta)**14/32768 + 136745788725*cos(theta)**12/131072 - 29113619535*cos(theta)**10/65536 + 15058768725*cos(theta)**8/131072 - 557732175*cos(theta)**6/32768 + 334639305*cos(theta)**4/262144 - 4849845*cos(theta)**2/131072 + 46189/262144)*tan(theta)/cos(theta)**2, (theta, 0, 0.174532925199432957692369076848861271344287188854172545609719144017100911460344944368224156963450948221230449250737905924838546922752810123984742189340471173191682450150107695616975535812386053051687886912711720870329635896026424901877043509181733439396980475940192241589469684813789632978181124952293))"
      ]
     },
     "execution_count": 12,
     "metadata": {},
     "output_type": "execute_result"
    }
   ],
   "source": [
    "%%time\n",
    "Lm.subs(subs_dict)"
   ]
  },
  {
   "cell_type": "code",
   "execution_count": 13,
   "id": "least-seating",
   "metadata": {},
   "outputs": [],
   "source": [
    "# eqn 12.107\n",
    "Kmn_expr = legendre(n, cos(theta))*legendre(m, cos(theta))*sin(theta)\n",
    "#Kmn = Integral(Kmn_expr, (theta, alpha, pi))#.as_sum(num_sumterms,'midpoint')"
   ]
  },
  {
   "cell_type": "code",
   "execution_count": 14,
   "id": "robust-monday",
   "metadata": {},
   "outputs": [],
   "source": [
    "legendre_1stderiv = diff(legendre(n,z),z)\n",
    "# when m != n\n",
    "num_legendre_term1 = legendre(m,cos(alpha))*legendre_1stderiv.subs({'z':cos(alpha)})\n",
    "num_legendre_term2 = legendre(n,cos(alpha))*legendre_1stderiv.subs({'n':m,'z':cos(alpha)})\n",
    "eqn70_mnoteqn = sin(alpha)*(num_legendre_term1-num_legendre_term2)/(m*(m+1)-n*(n+1))\n",
    "#\n",
    "summn_funcn = legendre(index,cos(alpha))*(legendre(index,cos(alpha))*cos(alpha)-legendre(index+1,cos(alpha)))\n",
    "# substituting 'j' for 'index' because j is also used for sqrt(-1) all through the book!!\n",
    "\n",
    "# --- THERE'S PROBABLY AN ERROR IN THE M==N CASE BECAUSE THE SUMMATION GOES FROM 1 -- M-1 , AND W\n",
    "# THEN THE SUMMATION IS FROM 1 -- 0. NEED TO CHECK IF THE NEW VERSION ALSO HAS THIS WEIRD TERM?\n",
    "meqn_sumterm = 2*summation(summn_funcn, (index,1,m-1))\n",
    "eqn70_meqn = (1+ legendre(m,cos(alpha))**2 + meqn_sumterm)/(2*m+1)"
   ]
  },
  {
   "cell_type": "code",
   "execution_count": 15,
   "id": "australian-courtesy",
   "metadata": {},
   "outputs": [],
   "source": [
    "Kmn = Piecewise((eqn70_mnoteqn,m>n),(eqn70_mnoteqn,m<n), (eqn70_meqn,True), )\n",
    "Kmn_func = lambdify([m,n,alpha],Kmn,'mpmath')"
   ]
  },
  {
   "cell_type": "code",
   "execution_count": 16,
   "id": "everyday-hopkins",
   "metadata": {},
   "outputs": [
    {
     "data": {
      "text/latex": [
       "$\\displaystyle \\begin{cases} \\frac{\\left(- \\frac{m \\left(\\cos{\\left(\\alpha \\right)} P_{m}\\left(\\cos{\\left(\\alpha \\right)}\\right) - P_{m - 1}\\left(\\cos{\\left(\\alpha \\right)}\\right)\\right) P_{n}\\left(\\cos{\\left(\\alpha \\right)}\\right)}{\\cos^{2}{\\left(\\alpha \\right)} - 1} + \\frac{n \\left(\\cos{\\left(\\alpha \\right)} P_{n}\\left(\\cos{\\left(\\alpha \\right)}\\right) - P_{n - 1}\\left(\\cos{\\left(\\alpha \\right)}\\right)\\right) P_{m}\\left(\\cos{\\left(\\alpha \\right)}\\right)}{\\cos^{2}{\\left(\\alpha \\right)} - 1}\\right) \\sin{\\left(\\alpha \\right)}}{m \\left(m + 1\\right) - n \\left(n + 1\\right)} & \\text{for}\\: m > n \\vee m < n \\\\\\frac{\\left(P_{m}\\left(\\cos{\\left(\\alpha \\right)}\\right)\\right)^{2} + 2 \\sum_{index=1}^{m - 1} \\left(\\cos{\\left(\\alpha \\right)} P_{index}\\left(\\cos{\\left(\\alpha \\right)}\\right) - P_{index + 1}\\left(\\cos{\\left(\\alpha \\right)}\\right)\\right) P_{index}\\left(\\cos{\\left(\\alpha \\right)}\\right) + 1}{2 m + 1} & \\text{otherwise} \\end{cases}$"
      ],
      "text/plain": [
       "Piecewise(((-m*(cos(alpha)*legendre(m, cos(alpha)) - legendre(m - 1, cos(alpha)))*legendre(n, cos(alpha))/(cos(alpha)**2 - 1) + n*(cos(alpha)*legendre(n, cos(alpha)) - legendre(n - 1, cos(alpha)))*legendre(m, cos(alpha))/(cos(alpha)**2 - 1))*sin(alpha)/(m*(m + 1) - n*(n + 1)), (m > n) | (m < n)), ((legendre(m, cos(alpha))**2 + 2*Sum((cos(alpha)*legendre(index, cos(alpha)) - legendre(index + 1, cos(alpha)))*legendre(index, cos(alpha)), (index, 1, m - 1)) + 1)/(2*m + 1), True))"
      ]
     },
     "execution_count": 16,
     "metadata": {},
     "output_type": "execute_result"
    }
   ],
   "source": [
    "Kmn"
   ]
  },
  {
   "cell_type": "code",
   "execution_count": 17,
   "id": "changing-consumer",
   "metadata": {},
   "outputs": [],
   "source": [
    "pt1_postterm = legendre(n,cos(theta))*cos(theta)\n",
    "alternate_hankels = n*sph_hankel2.subs({'n':n-1, 'z':k*r1})-(n+1)*sph_hankel2.subs({'n':n+1, 'z':k*r1})\n",
    "Imn_pt1 = alternate_hankels*pt1_postterm\n",
    "\n",
    "pt2_preterm = n*(n+1)*sph_hankel2.subs({'z':k*r1})\n",
    "alternate_legendres = pt2_preterm*(legendre(n-1,cos(theta))-legendre(n+1,cos(theta)))/(k*r1)\n",
    "Imn_pt2 = pt2_preterm*alternate_legendres\n",
    "\n",
    "\n",
    "whole_postterm = legendre(m,cos(theta))*(r1**2/R**2)*tan(theta)\n",
    "\n",
    "Imn_term = (Imn_pt1 + Imn_pt2)*whole_postterm\n",
    "#Imn = Integral(Imn_term,(theta,0,alpha)).as_sum(50)\n",
    "Imn = Integral(Imn_term,(theta,0,alpha))\n",
    "# Imn_part2 = n*(n+1)*sph_hankel2(n, k*r1)*(legendre(n-1, cos(theta)-legendre(n+1, cos(theta))))/k*r1\n",
    "#Imn_parts = expand(Imn_part1+Imn_part2)\n",
    "#Imn_expr = expand(sympy.simplify(Imn_parts*legendre(m,cos(theta))*(r1**2/R**2)*tan(theta)))\n",
    "#Imn = Integral(Imn_expr, (theta, 0, alpha))#.doit(meijerg=True)\n",
    "Imn_term_func = lambdify([m,n,k,R,alpha,theta], Imn_term, 'mpmath')\n",
    "Imn_func = lambdify([m,n,k,R,alpha],Imn,'mpmath')\n",
    "#Imn2_func = lambdify([m,n,k,R,alpha],Imn2,'mpmath')"
   ]
  },
  {
   "cell_type": "code",
   "execution_count": 18,
   "id": "banner-newman",
   "metadata": {},
   "outputs": [],
   "source": [
    "\n",
    "def imn_quad_value(params):\n",
    "    variables = ['m','n','k','R','alpha']    \n",
    "    imn_onlytheta = Imn_term.subs({each: params[each] for each in variables})\n",
    "    imn_onlytheta_f = lambdify([theta],imn_onlytheta,'mpmath')\n",
    "    # try breaking 0-alpha into 10 parts if the error is  too high - with mpmath.linspace?\n",
    "    return mpmath.quad(imn_onlytheta_f,[0,params['alpha']],error=True)"
   ]
  },
  {
   "cell_type": "raw",
   "id": "heated-trust",
   "metadata": {},
   "source": [
    "params['m'] = 5\n",
    "params['n'] = 20\n",
    "imn_value = imn_quad_value(params)\n",
    "print(imn_value)"
   ]
  },
  {
   "cell_type": "raw",
   "id": "spatial-composition",
   "metadata": {},
   "source": [
    "out1 = Imn_func(10,10,subs_dict['k'],subs_dict['R'],subs_dict['alpha'])\n",
    "out2 = Imn2_func(10,10,subs_dict['k'],subs_dict['R'],subs_dict['alpha'])"
   ]
  },
  {
   "cell_type": "raw",
   "id": "3a2aaaf3",
   "metadata": {},
   "source": [
    "print(out1.real/out2.real, out1.imag/out2.imag, abs(out1)/abs(out2))"
   ]
  },
  {
   "cell_type": "code",
   "execution_count": 19,
   "id": "596c2a44",
   "metadata": {},
   "outputs": [],
   "source": [
    "mv,nv = 2,5\n",
    "npts = 100\n",
    "imn_values = mpmath.matrix(1,npts)\n",
    "angles = np.linspace(0,float(subs_dict['alpha']),npts)\n",
    "for i,each in enumerate(angles):\n",
    "    imn_values[i] = Imn_term_func(mv,nv,subs_dict['k'],subs_dict['R'],subs_dict['alpha'],each)\n",
    "real_imn = [each.real for each in imn_values]\n",
    "imag_imn = [each.imag for each in imn_values]\n",
    "abs_imn = [abs(each) for each in imn_values]"
   ]
  },
  {
   "cell_type": "code",
   "execution_count": 20,
   "id": "8edf545c",
   "metadata": {},
   "outputs": [
    {
     "data": {
      "text/plain": [
       "<matplotlib.legend.Legend at 0x7fa2115aaf40>"
      ]
     },
     "execution_count": 20,
     "metadata": {},
     "output_type": "execute_result"
    },
    {
     "data": {
      "image/png": "[encoded data removed]",
      "text/plain": [
       "<Figure size 432x288 with 3 Axes>"
      ]
     },
     "metadata": {
      "needs_background": "light"
     },
     "output_type": "display_data"
    }
   ],
   "source": [
    "plt.figure()\n",
    "plt.subplot(131)\n",
    "plt.plot(angles, real_imn,label='real');plt.legend()\n",
    "plt.subplot(132)\n",
    "plt.plot(angles, imag_imn,label='imag');plt.legend()\n",
    "plt.xlabel('$\\\\theta$, radians')\n",
    "plt.subplot(133)\n",
    "plt.plot(angles, abs_imn,label='abs');plt.legend()\n"
   ]
  },
  {
   "cell_type": "markdown",
   "id": "5df2fa21",
   "metadata": {},
   "source": [
    "### Broadly speaking, the Imn function is fairly smooth, and so numerical integration shouldn't be such a problem?"
   ]
  },
  {
   "cell_type": "code",
   "execution_count": null,
   "id": "single-preserve",
   "metadata": {},
   "outputs": [],
   "source": []
  },
  {
   "cell_type": "raw",
   "id": "conservative-robinson",
   "metadata": {},
   "source": [
    "M_mn_func = lambdify((m,n,k,R,alpha), M_mn,'sympy')"
   ]
  },
  {
   "cell_type": "code",
   "execution_count": 21,
   "id": "previous-compromise",
   "metadata": {},
   "outputs": [],
   "source": [
    "b = -I*Lm\n",
    "b_func = lambdify([m,alpha], b,'mpmath')"
   ]
  },
  {
   "cell_type": "code",
   "execution_count": 22,
   "id": "awful-safety",
   "metadata": {},
   "outputs": [],
   "source": [
    "frequency = 50*10**3 # kHz\n",
    "vsound = 330 # m/s\n",
    "wavelength = vsound/frequency\n",
    "alpha_value = mpmath.pi/3 # 60 degrees --> pi/3\n",
    "k_value = 2*np.pi/(wavelength)\n",
    "ka = 5\n",
    "a_value = ka/k_value \n",
    "R_value = a_value/mpmath.sin(alpha_value) # m\n"
   ]
  },
  {
   "cell_type": "code",
   "execution_count": 23,
   "id": "rural-success",
   "metadata": {},
   "outputs": [],
   "source": [
    "Nv = 12 + int(2*ka/sin(alpha_value))\n",
    "M_matrix = mpmath.matrix(Nv,Nv)\n",
    "b_matrix = mpmath.matrix(Nv,1)\n"
   ]
  },
  {
   "cell_type": "code",
   "execution_count": 24,
   "id": "interior-xerox",
   "metadata": {},
   "outputs": [],
   "source": [
    "params = {'k':k_value, 'a':a_value, 'R':R_value, 'alpha':alpha_value}"
   ]
  },
  {
   "cell_type": "code",
   "execution_count": 25,
   "id": "finished-module",
   "metadata": {},
   "outputs": [],
   "source": [
    "mmn_hankels = n*sph_hankel2.subs({'n':n-1,'z':k*R})-(n+1)*sph_hankel2.subs({'n':n+1,'z':k*R})\n",
    "mmn_hankels_func = lambdify([n,k,R], mmn_hankels,'mpmath')"
   ]
  },
  {
   "cell_type": "code",
   "execution_count": null,
   "id": "rocky-gates",
   "metadata": {},
   "outputs": [],
   "source": []
  },
  {
   "cell_type": "code",
   "execution_count": 26,
   "id": "protecting-corruption",
   "metadata": {},
   "outputs": [
    {
     "name": "stderr",
     "output_type": "stream",
     "text": [
      "100%|██████████| 23/23 [1:37:09<00:00, 253.46s/it]\n"
     ]
    }
   ],
   "source": [
    "all_quaderrors = []\n",
    "for i in tqdm.trange(Nv):\n",
    "    for j in range(Nv):\n",
    "        params['m'],params['n'] = i,j\n",
    "        Imn_value,quad_error = imn_quad_value(params)\n",
    "        all_quaderrors.append(quad_error)\n",
    "        Kmn_value = Kmn_func(i,j,params['alpha'])\n",
    "        numerator_hankels = mmn_hankels_func(j,params['k'],params['R'])\n",
    "        numerator = Imn_value+ numerator_hankels*Kmn_value\n",
    "        denom = 2*j+1\n",
    "        M_matrix[i,j] = numerator/denom\n"
   ]
  },
  {
   "cell_type": "code",
   "execution_count": 27,
   "id": "nuclear-syndication",
   "metadata": {},
   "outputs": [
    {
     "data": {
      "text/plain": [
       "[mpf('1.0e-313'),\n",
       " mpf('1.0e-609'),\n",
       " mpf('1.0e-609'),\n",
       " mpf('1.0e-609'),\n",
       " mpf('1.0e-607'),\n",
       " mpf('1.0e-606'),\n",
       " mpf('1.0e-606'),\n",
       " mpf('1.0e-604'),\n",
       " mpf('1.0e-602'),\n",
       " mpf('1.0e-596'),\n",
       " mpf('1.0e-592'),\n",
       " mpf('1.0e-588'),\n",
       " mpf('1.0e-582'),\n",
       " mpf('1.0e-581'),\n",
       " mpf('1.0e-574'),\n",
       " mpf('1.0e-568'),\n",
       " mpf('1.0e-563'),\n",
       " mpf('1.0e-558'),\n",
       " mpf('1.0e-552'),\n",
       " mpf('1.0e-547'),\n",
       " mpf('1.0e-541'),\n",
       " mpf('1.0e-536'),\n",
       " mpf('1.0e-531'),\n",
       " mpf('1.0e-314'),\n",
       " mpf('1.0e-610'),\n",
       " mpf('1.0e-610'),\n",
       " mpf('1.0e-609'),\n",
       " mpf('1.0e-608'),\n",
       " mpf('1.0e-607'),\n",
       " mpf('1.0e-607'),\n",
       " mpf('1.0e-604'),\n",
       " mpf('1.0e-602'),\n",
       " mpf('1.0e-596'),\n",
       " mpf('1.0e-592'),\n",
       " mpf('1.0e-588'),\n",
       " mpf('1.0e-582'),\n",
       " mpf('1.0e-580'),\n",
       " mpf('1.0e-574'),\n",
       " mpf('1.0e-568'),\n",
       " mpf('1.0e-563'),\n",
       " mpf('1.0e-558'),\n",
       " mpf('1.0e-552'),\n",
       " mpf('1.0e-547'),\n",
       " mpf('1.0e-541'),\n",
       " mpf('1.0e-536'),\n",
       " mpf('1.0e-531'),\n",
       " mpf('1.0e-313'),\n",
       " mpf('1.0e-611'),\n",
       " mpf('1.0e-611'),\n",
       " mpf('1.0e-610'),\n",
       " mpf('1.0e-609'),\n",
       " mpf('1.0e-608'),\n",
       " mpf('1.0e-607'),\n",
       " mpf('1.0e-605'),\n",
       " mpf('1.0e-602'),\n",
       " mpf('1.0e-596'),\n",
       " mpf('1.0e-592'),\n",
       " mpf('1.0e-589'),\n",
       " mpf('1.0e-582'),\n",
       " mpf('1.0e-580'),\n",
       " mpf('1.0e-574'),\n",
       " mpf('1.0e-568'),\n",
       " mpf('1.0e-563'),\n",
       " mpf('1.0e-558'),\n",
       " mpf('1.0e-553'),\n",
       " mpf('1.0e-547'),\n",
       " mpf('1.0e-542'),\n",
       " mpf('1.0e-536'),\n",
       " mpf('1.0e-531'),\n",
       " mpf('1.0e-314'),\n",
       " mpf('1.0e-610'),\n",
       " mpf('1.0e-610'),\n",
       " mpf('1.0e-609'),\n",
       " mpf('1.0e-608'),\n",
       " mpf('1.0e-607'),\n",
       " mpf('1.0e-607'),\n",
       " mpf('1.0e-606'),\n",
       " mpf('1.0e-602'),\n",
       " mpf('1.0e-596'),\n",
       " mpf('1.0e-592'),\n",
       " mpf('1.0e-591'),\n",
       " mpf('1.0e-582'),\n",
       " mpf('1.0e-579'),\n",
       " mpf('1.0e-575'),\n",
       " mpf('1.0e-568'),\n",
       " mpf('1.0e-563'),\n",
       " mpf('1.0e-558'),\n",
       " mpf('1.0e-553'),\n",
       " mpf('1.0e-547'),\n",
       " mpf('1.0e-542'),\n",
       " mpf('1.0e-536'),\n",
       " mpf('1.0e-531'),\n",
       " mpf('1.0e-313'),\n",
       " mpf('1.0e-610'),\n",
       " mpf('1.0e-610'),\n",
       " mpf('1.0e-610'),\n",
       " mpf('1.0e-608'),\n",
       " mpf('1.0e-607'),\n",
       " mpf('1.0e-607'),\n",
       " mpf('1.0e-605'),\n",
       " mpf('1.0e-602'),\n",
       " mpf('1.0e-597'),\n",
       " mpf('1.0e-592'),\n",
       " mpf('1.0e-589'),\n",
       " mpf('1.0e-582'),\n",
       " mpf('1.0e-579'),\n",
       " mpf('1.0e-575'),\n",
       " mpf('1.0e-569'),\n",
       " mpf('1.0e-563'),\n",
       " mpf('1.0e-558'),\n",
       " mpf('1.0e-553'),\n",
       " mpf('1.0e-547'),\n",
       " mpf('1.0e-542'),\n",
       " mpf('1.0e-536'),\n",
       " mpf('1.0e-531'),\n",
       " mpf('1.0e-314'),\n",
       " mpf('1.0e-611'),\n",
       " mpf('1.0e-611'),\n",
       " mpf('1.0e-611'),\n",
       " mpf('1.0e-609'),\n",
       " mpf('1.0e-608'),\n",
       " mpf('1.0e-608'),\n",
       " mpf('1.0e-604'),\n",
       " mpf('1.0e-607'),\n",
       " mpf('1.0e-599'),\n",
       " mpf('1.0e-592'),\n",
       " mpf('1.0e-588'),\n",
       " mpf('1.0e-582'),\n",
       " mpf('1.0e-579'),\n",
       " mpf('1.0e-577'),\n",
       " mpf('1.0e-569'),\n",
       " mpf('1.0e-563'),\n",
       " mpf('1.0e-558'),\n",
       " mpf('1.0e-553'),\n",
       " mpf('1.0e-547'),\n",
       " mpf('1.0e-542'),\n",
       " mpf('1.0e-536'),\n",
       " mpf('1.0e-531'),\n",
       " mpf('1.0e-313'),\n",
       " mpf('1.0e-610'),\n",
       " mpf('1.0e-610'),\n",
       " mpf('1.0e-610'),\n",
       " mpf('1.0e-608'),\n",
       " mpf('1.0e-607'),\n",
       " mpf('1.0e-607'),\n",
       " mpf('1.0e-604'),\n",
       " mpf('1.0e-603'),\n",
       " mpf('1.0e-598'),\n",
       " mpf('1.0e-593'),\n",
       " mpf('1.0e-588'),\n",
       " mpf('1.0e-583'),\n",
       " mpf('1.0e-579'),\n",
       " mpf('1.0e-575'),\n",
       " mpf('1.0e-569'),\n",
       " mpf('1.0e-563'),\n",
       " mpf('1.0e-558'),\n",
       " mpf('1.0e-553'),\n",
       " mpf('1.0e-547'),\n",
       " mpf('1.0e-542'),\n",
       " mpf('1.0e-536'),\n",
       " mpf('1.0e-531'),\n",
       " mpf('1.0e-314'),\n",
       " mpf('1.0e-610'),\n",
       " mpf('1.0e-610'),\n",
       " mpf('1.0e-610'),\n",
       " mpf('1.0e-608'),\n",
       " mpf('1.0e-607'),\n",
       " mpf('1.0e-607'),\n",
       " mpf('1.0e-606'),\n",
       " mpf('1.0e-602'),\n",
       " mpf('1.0e-597'),\n",
       " mpf('1.0e-593'),\n",
       " mpf('1.0e-587'),\n",
       " mpf('1.0e-583'),\n",
       " mpf('1.0e-579'),\n",
       " mpf('1.0e-575'),\n",
       " mpf('1.0e-569'),\n",
       " mpf('1.0e-563'),\n",
       " mpf('1.0e-558'),\n",
       " mpf('1.0e-553'),\n",
       " mpf('1.0e-547'),\n",
       " mpf('1.0e-542'),\n",
       " mpf('1.0e-536'),\n",
       " mpf('1.0e-529'),\n",
       " mpf('1.0e-313'),\n",
       " mpf('1.0e-611'),\n",
       " mpf('1.0e-611'),\n",
       " mpf('1.0e-611'),\n",
       " mpf('1.0e-609'),\n",
       " mpf('1.0e-608'),\n",
       " mpf('1.0e-607'),\n",
       " mpf('1.0e-605'),\n",
       " mpf('1.0e-602'),\n",
       " mpf('1.0e-597'),\n",
       " mpf('1.0e-593'),\n",
       " mpf('1.0e-587'),\n",
       " mpf('1.0e-583'),\n",
       " mpf('1.0e-578'),\n",
       " mpf('1.0e-575'),\n",
       " mpf('1.0e-570'),\n",
       " mpf('1.0e-563'),\n",
       " mpf('1.0e-558'),\n",
       " mpf('1.0e-553'),\n",
       " mpf('1.0e-547'),\n",
       " mpf('1.0e-542'),\n",
       " mpf('1.0e-537'),\n",
       " mpf('1.0e-527'),\n",
       " mpf('1.0e-314'),\n",
       " mpf('1.0e-610'),\n",
       " mpf('1.0e-610'),\n",
       " mpf('1.0e-610'),\n",
       " mpf('1.0e-608'),\n",
       " mpf('1.0e-607'),\n",
       " mpf('1.0e-607'),\n",
       " mpf('1.0e-604'),\n",
       " mpf('1.0e-601'),\n",
       " mpf('1.0e-597'),\n",
       " mpf('1.0e-593'),\n",
       " mpf('1.0e-587'),\n",
       " mpf('1.0e-584'),\n",
       " mpf('1.0e-578'),\n",
       " mpf('1.0e-575'),\n",
       " mpf('1.0e-570'),\n",
       " mpf('1.0e-564'),\n",
       " mpf('1.0e-558'),\n",
       " mpf('1.0e-553'),\n",
       " mpf('1.0e-548'),\n",
       " mpf('1.0e-542'),\n",
       " mpf('1.0e-536'),\n",
       " mpf('1.0e-525'),\n",
       " mpf('1.0e-313'),\n",
       " mpf('1.0e-611'),\n",
       " mpf('1.0e-611'),\n",
       " mpf('1.0e-610'),\n",
       " mpf('1.0e-609'),\n",
       " mpf('1.0e-607'),\n",
       " mpf('1.0e-607'),\n",
       " mpf('1.0e-604'),\n",
       " mpf('1.0e-601'),\n",
       " mpf('1.0e-597'),\n",
       " mpf('1.0e-593'),\n",
       " mpf('1.0e-587'),\n",
       " mpf('1.0e-585'),\n",
       " mpf('1.0e-579'),\n",
       " mpf('1.0e-575'),\n",
       " mpf('1.0e-571'),\n",
       " mpf('1.0e-564'),\n",
       " mpf('1.0e-558'),\n",
       " mpf('1.0e-554'),\n",
       " mpf('1.0e-548'),\n",
       " mpf('1.0e-542'),\n",
       " mpf('1.0e-533'),\n",
       " mpf('1.0e-524'),\n",
       " mpf('1.0e-313'),\n",
       " mpf('1.0e-611'),\n",
       " mpf('1.0e-612'),\n",
       " mpf('1.0e-611'),\n",
       " mpf('1.0e-610'),\n",
       " mpf('1.0e-607'),\n",
       " mpf('1.0e-605'),\n",
       " mpf('1.0e-602'),\n",
       " mpf('1.0e-599'),\n",
       " mpf('1.0e-597'),\n",
       " mpf('1.0e-593'),\n",
       " mpf('1.0e-587'),\n",
       " mpf('1.0e-584'),\n",
       " mpf('1.0e-579'),\n",
       " mpf('1.0e-575'),\n",
       " mpf('1.0e-571'),\n",
       " mpf('1.0e-564'),\n",
       " mpf('1.0e-558'),\n",
       " mpf('1.0e-554'),\n",
       " mpf('1.0e-548'),\n",
       " mpf('1.0e-544'),\n",
       " mpf('1.0e-531'),\n",
       " mpf('1.0e-522'),\n",
       " mpf('1.0e-313'),\n",
       " mpf('1.0e-610'),\n",
       " mpf('1.0e-610'),\n",
       " mpf('1.0e-610'),\n",
       " mpf('1.0e-609'),\n",
       " mpf('1.0e-607'),\n",
       " mpf('1.0e-605'),\n",
       " mpf('1.0e-602'),\n",
       " mpf('1.0e-599'),\n",
       " mpf('1.0e-597'),\n",
       " mpf('1.0e-594'),\n",
       " mpf('1.0e-587'),\n",
       " mpf('1.0e-584'),\n",
       " mpf('1.0e-579'),\n",
       " mpf('1.0e-575'),\n",
       " mpf('1.0e-570'),\n",
       " mpf('1.0e-564'),\n",
       " mpf('1.0e-558'),\n",
       " mpf('1.0e-554'),\n",
       " mpf('1.0e-548'),\n",
       " mpf('1.0e-539'),\n",
       " mpf('1.0e-529'),\n",
       " mpf('1.0e-519'),\n",
       " mpf('1.0e-313'),\n",
       " mpf('1.0e-611'),\n",
       " mpf('1.0e-611'),\n",
       " mpf('1.0e-610'),\n",
       " mpf('1.0e-608'),\n",
       " mpf('1.0e-606'),\n",
       " mpf('1.0e-604'),\n",
       " mpf('1.0e-601'),\n",
       " mpf('1.0e-598'),\n",
       " mpf('1.0e-596'),\n",
       " mpf('1.0e-593'),\n",
       " mpf('1.0e-587'),\n",
       " mpf('1.0e-585'),\n",
       " mpf('1.0e-579'),\n",
       " mpf('1.0e-575'),\n",
       " mpf('1.0e-570'),\n",
       " mpf('1.0e-565'),\n",
       " mpf('1.0e-559'),\n",
       " mpf('1.0e-554'),\n",
       " mpf('1.0e-548'),\n",
       " mpf('1.0e-537'),\n",
       " mpf('1.0e-528'),\n",
       " mpf('1.0e-516'),\n",
       " mpf('1.0e-313'),\n",
       " mpf('1.0e-610'),\n",
       " mpf('1.0e-611'),\n",
       " mpf('1.0e-610'),\n",
       " mpf('1.0e-608'),\n",
       " mpf('1.0e-605'),\n",
       " mpf('1.0e-603'),\n",
       " mpf('1.0e-600'),\n",
       " mpf('1.0e-597'),\n",
       " mpf('1.0e-594'),\n",
       " mpf('1.0e-591'),\n",
       " mpf('1.0e-590'),\n",
       " mpf('1.0e-584'),\n",
       " mpf('1.0e-579'),\n",
       " mpf('1.0e-576'),\n",
       " mpf('1.0e-570'),\n",
       " mpf('1.0e-567'),\n",
       " mpf('1.0e-559'),\n",
       " mpf('1.0e-555'),\n",
       " mpf('1.0e-546'),\n",
       " mpf('1.0e-535'),\n",
       " mpf('1.0e-525'),\n",
       " mpf('1.0e-514'),\n",
       " mpf('1.0e-313'),\n",
       " mpf('1.0e-611'),\n",
       " mpf('1.0e-611'),\n",
       " mpf('1.0e-609'),\n",
       " mpf('1.0e-607'),\n",
       " mpf('1.0e-605'),\n",
       " mpf('1.0e-603'),\n",
       " mpf('1.0e-600'),\n",
       " mpf('1.0e-597'),\n",
       " mpf('1.0e-595'),\n",
       " mpf('1.0e-591'),\n",
       " mpf('1.0e-587'),\n",
       " mpf('1.0e-583'),\n",
       " mpf('1.0e-578'),\n",
       " mpf('1.0e-574'),\n",
       " mpf('1.0e-569'),\n",
       " mpf('1.0e-565'),\n",
       " mpf('1.0e-559'),\n",
       " mpf('1.0e-554'),\n",
       " mpf('1.0e-543'),\n",
       " mpf('1.0e-533'),\n",
       " mpf('1.0e-522'),\n",
       " mpf('1.0e-512'),\n",
       " mpf('1.0e-313'),\n",
       " mpf('1.0e-610'),\n",
       " mpf('1.0e-610'),\n",
       " mpf('1.0e-609'),\n",
       " mpf('1.0e-607'),\n",
       " mpf('1.0e-605'),\n",
       " mpf('1.0e-602'),\n",
       " mpf('1.0e-599'),\n",
       " mpf('1.0e-596'),\n",
       " mpf('1.0e-593'),\n",
       " mpf('1.0e-590'),\n",
       " mpf('1.0e-586'),\n",
       " mpf('1.0e-583'),\n",
       " mpf('1.0e-581'),\n",
       " mpf('1.0e-577'),\n",
       " mpf('1.0e-570'),\n",
       " mpf('1.0e-564'),\n",
       " mpf('1.0e-559'),\n",
       " mpf('1.0e-553'),\n",
       " mpf('1.0e-540'),\n",
       " mpf('1.0e-532'),\n",
       " mpf('1.0e-520'),\n",
       " mpf('1.0e-511'),\n",
       " mpf('1.0e-313'),\n",
       " mpf('1.0e-610'),\n",
       " mpf('1.0e-609'),\n",
       " mpf('1.0e-608'),\n",
       " mpf('1.0e-607'),\n",
       " mpf('1.0e-604'),\n",
       " mpf('1.0e-601'),\n",
       " mpf('1.0e-598'),\n",
       " mpf('1.0e-595'),\n",
       " mpf('1.0e-592'),\n",
       " mpf('1.0e-588'),\n",
       " mpf('1.0e-585'),\n",
       " mpf('1.0e-581'),\n",
       " mpf('1.0e-578'),\n",
       " mpf('1.0e-577'),\n",
       " mpf('1.0e-572'),\n",
       " mpf('1.0e-564'),\n",
       " mpf('1.0e-559'),\n",
       " mpf('1.0e-549'),\n",
       " mpf('1.0e-538'),\n",
       " mpf('1.0e-529'),\n",
       " mpf('1.0e-518'),\n",
       " mpf('1.0e-509'),\n",
       " mpf('1.0e-313'),\n",
       " mpf('1.0e-609'),\n",
       " mpf('1.0e-610'),\n",
       " mpf('1.0e-608'),\n",
       " mpf('1.0e-606'),\n",
       " mpf('1.0e-608'),\n",
       " mpf('1.0e-602'),\n",
       " mpf('1.0e-599'),\n",
       " mpf('1.0e-595'),\n",
       " mpf('1.0e-592'),\n",
       " mpf('1.0e-589'),\n",
       " mpf('1.0e-588'),\n",
       " mpf('1.0e-582'),\n",
       " mpf('1.0e-577'),\n",
       " mpf('1.0e-573'),\n",
       " mpf('1.0e-568'),\n",
       " mpf('1.0e-567'),\n",
       " mpf('1.0e-557'),\n",
       " mpf('1.0e-546'),\n",
       " mpf('1.0e-536'),\n",
       " mpf('1.0e-526'),\n",
       " mpf('1.0e-516'),\n",
       " mpf('1.0e-506'),\n",
       " mpf('1.0e-313'),\n",
       " mpf('1.0e-607'),\n",
       " mpf('1.0e-607'),\n",
       " mpf('1.0e-606'),\n",
       " mpf('1.0e-604'),\n",
       " mpf('1.0e-602'),\n",
       " mpf('1.0e-599'),\n",
       " mpf('1.0e-596'),\n",
       " mpf('1.0e-593'),\n",
       " mpf('1.0e-590'),\n",
       " mpf('1.0e-587'),\n",
       " mpf('1.0e-583'),\n",
       " mpf('1.0e-580'),\n",
       " mpf('1.0e-576'),\n",
       " mpf('1.0e-572'),\n",
       " mpf('1.0e-568'),\n",
       " mpf('1.0e-563'),\n",
       " mpf('1.0e-556'),\n",
       " mpf('1.0e-544'),\n",
       " mpf('1.0e-535'),\n",
       " mpf('1.0e-524'),\n",
       " mpf('1.0e-515'),\n",
       " mpf('1.0e-503'),\n",
       " mpf('1.0e-313'),\n",
       " mpf('1.0e-607'),\n",
       " mpf('1.0e-607'),\n",
       " mpf('1.0e-606'),\n",
       " mpf('1.0e-604'),\n",
       " mpf('1.0e-602'),\n",
       " mpf('1.0e-599'),\n",
       " mpf('1.0e-597'),\n",
       " mpf('1.0e-594'),\n",
       " mpf('1.0e-590'),\n",
       " mpf('1.0e-587'),\n",
       " mpf('1.0e-583'),\n",
       " mpf('1.0e-579'),\n",
       " mpf('1.0e-575'),\n",
       " mpf('1.0e-571'),\n",
       " mpf('1.0e-567'),\n",
       " mpf('1.0e-562'),\n",
       " mpf('1.0e-553'),\n",
       " mpf('1.0e-542'),\n",
       " mpf('1.0e-532'),\n",
       " mpf('1.0e-521'),\n",
       " mpf('1.0e-512'),\n",
       " mpf('1.0e-501'),\n",
       " mpf('1.0e-313'),\n",
       " mpf('1.0e-606'),\n",
       " mpf('1.0e-606'),\n",
       " mpf('1.0e-606'),\n",
       " mpf('1.0e-603'),\n",
       " mpf('1.0e-601'),\n",
       " mpf('1.0e-599'),\n",
       " mpf('1.0e-596'),\n",
       " mpf('1.0e-593'),\n",
       " mpf('1.0e-590'),\n",
       " mpf('1.0e-586'),\n",
       " mpf('1.0e-583'),\n",
       " mpf('1.0e-579'),\n",
       " mpf('1.0e-575'),\n",
       " mpf('1.0e-571'),\n",
       " mpf('1.0e-567'),\n",
       " mpf('1.0e-560'),\n",
       " mpf('1.0e-550'),\n",
       " mpf('1.0e-540'),\n",
       " mpf('1.0e-529'),\n",
       " mpf('1.0e-519'),\n",
       " mpf('1.0e-509'),\n",
       " mpf('1.0e-500'),\n",
       " mpf('1.0e-313'),\n",
       " mpf('1.0e-606'),\n",
       " mpf('1.0e-606'),\n",
       " mpf('1.0e-605'),\n",
       " mpf('1.0e-603'),\n",
       " mpf('1.0e-600'),\n",
       " mpf('1.0e-598'),\n",
       " mpf('1.0e-595'),\n",
       " mpf('1.0e-592'),\n",
       " mpf('1.0e-589'),\n",
       " mpf('1.0e-586'),\n",
       " mpf('1.0e-585'),\n",
       " mpf('1.0e-579'),\n",
       " mpf('1.0e-574'),\n",
       " mpf('1.0e-570'),\n",
       " mpf('1.0e-566'),\n",
       " mpf('1.0e-560'),\n",
       " mpf('1.0e-547'),\n",
       " mpf('1.0e-539'),\n",
       " mpf('1.0e-527'),\n",
       " mpf('1.0e-518'),\n",
       " mpf('1.0e-507'),\n",
       " mpf('1.0e-498')]"
      ]
     },
     "execution_count": 27,
     "metadata": {},
     "output_type": "execute_result"
    }
   ],
   "source": [
    "all_quaderrors"
   ]
  },
  {
   "cell_type": "raw",
   "id": "continental-beach",
   "metadata": {},
   "source": [
    "def M_mn_wrapper(eachm,eachn,params):\n",
    "    return M_mn_func(eachm,eachn,params['k'],params['R'],params['alpha'])"
   ]
  },
  {
   "cell_type": "raw",
   "id": "solar-gothic",
   "metadata": {},
   "source": [
    "M_mn_wrapper(0,1,params)"
   ]
  },
  {
   "cell_type": "code",
   "execution_count": 28,
   "id": "beautiful-honduras",
   "metadata": {},
   "outputs": [
    {
     "name": "stdout",
     "output_type": "stream",
     "text": [
      "Help on method lu_solve in module mpmath.matrices.linalg:\n",
      "\n",
      "lu_solve(A, b, **kwargs) method of mpmath.ctx_mp.MPContext instance\n",
      "    Ax = b => x\n",
      "    \n",
      "    Solve a determined or overdetermined linear equations system.\n",
      "    Fast LU decomposition is used, which is less accurate than QR decomposition\n",
      "    (especially for overdetermined systems), but it's twice as efficient.\n",
      "    Use qr_solve if you want more precision or have to solve a very ill-\n",
      "    conditioned system.\n",
      "    \n",
      "    If you specify real=True, it does not check for overdeterminded complex\n",
      "    systems.\n",
      "\n"
     ]
    }
   ],
   "source": [
    "help(mpmath.lu_solve)"
   ]
  },
  {
   "cell_type": "raw",
   "id": "baking-details",
   "metadata": {
    "scrolled": true
   },
   "source": [
    "rowcol = [(eachm, eachn) for eachn in range(Nv) for eachm in range(Nv)]\n",
    "        \n",
    "\n",
    "M_values = Parallel(n_jobs=4)(Mmn(pos[0], pos[1], params)  for pos in tqdm.tqdm(rowcol))\n",
    "#M_values = [M_mn_func(pos[0], pos[1], params['k'], params['R'], params['alpha'])  for pos in tqdm.tqdm(rowcol)]\n"
   ]
  },
  {
   "cell_type": "code",
   "execution_count": 29,
   "id": "described-commander",
   "metadata": {},
   "outputs": [],
   "source": [
    "for each_m in range(Nv):\n",
    "    #M_matrix[each_m, each_n] = M_mn_func(each_m, each_n, k_value, R_value, alpha_value)\n",
    "    b_matrix[each_m,:] = b_func(each_m, alpha_value)\n"
   ]
  },
  {
   "cell_type": "code",
   "execution_count": 30,
   "id": "natural-michael",
   "metadata": {},
   "outputs": [],
   "source": [
    "#a_matrix = mpmath.lu_solve(M_matrix,b_matrix) -# fast but dirty \n",
    "a_matrix,res = mpmath.qr_solve(M_matrix,b_matrix) # slow but reliable"
   ]
  },
  {
   "cell_type": "code",
   "execution_count": 31,
   "id": "placed-shaft",
   "metadata": {},
   "outputs": [],
   "source": [
    "legendre_func = lambdify((m, x), legendre(m, x),'mpmath')"
   ]
  },
  {
   "cell_type": "code",
   "execution_count": 32,
   "id": "wired-radical",
   "metadata": {},
   "outputs": [],
   "source": [
    "\n",
    "def d_theta(angle,k_v,R_v,alpha_v,An):\n",
    "    num = 4 \n",
    "    N_v = An.rows\n",
    "    denom  = (k_v**2)*(R_v**2)*mpmath.sin(alpha_v)**2\n",
    "    part1 = num/denom\n",
    "    jn_matrix = np.array([1j**f for f in range(N_v)])\n",
    "    legendre_matrix = np.array([legendre(n_v, np.cos(angle)) for n_v in range(N_v)])\n",
    "    part2_matrix = np.column_stack((An, jn_matrix, legendre_matrix))\n",
    "    part2 = np.sum(np.apply_along_axis(lambda X: X[0]*X[1]*X[2], 1, part2_matrix))\n",
    "    rel_level = - part1*part2\n",
    "    return rel_level\n",
    "\n",
    "def d_zero(k_v,R_v,alpha_v,An):\n",
    "    num = 4 \n",
    "    N_v = An.rows\n",
    "    denom  = (k_v**2)*(R_v**2)*mpmath.sin(alpha_v)**2\n",
    "    part1 = num/denom\n",
    "    jn_matrix = np.array([1j**f for f in range(N_v)])\n",
    "    part2_matrix = np.column_stack((An, jn_matrix))\n",
    "    part2 = np.sum(np.apply_along_axis(lambda X: X[0]*X[1], 1, part2_matrix))\n",
    "    rel_level = - part1*part2\n",
    "    return rel_level\n",
    "\n",
    "def relative_directionality_db(angle,k_v,R_v,alpha_v,An):\n",
    "    off_axis = d_theta(angle,k_v,R_v,alpha_v,An)\n",
    "    on_axis = d_zero(k_v,R_v,alpha_v,An)\n",
    "    rel_level = 20*mpmath.log10(abs(off_axis/on_axis))\n",
    "    return rel_level"
   ]
  },
  {
   "cell_type": "code",
   "execution_count": 33,
   "id": "canadian-history",
   "metadata": {},
   "outputs": [],
   "source": [
    "\n",
    "angles = np.linspace(0,2*np.pi,100)\n",
    "dirnlty = [relative_directionality_db(angle_v, k_value, R_value,alpha_value,a_matrix) for angle_v in angles]\n"
   ]
  },
  {
   "cell_type": "code",
   "execution_count": 34,
   "id": "written-calgary",
   "metadata": {},
   "outputs": [
    {
     "data": {
      "image/png": "[encoded data removed]",
      "text/plain": [
       "<Figure size 432x288 with 1 Axes>"
      ]
     },
     "metadata": {
      "needs_background": "light"
     },
     "output_type": "display_data"
    }
   ],
   "source": [
    "plt.figure()\n",
    "a0 = plt.subplot(111, projection='polar')\n",
    "plt.plot(angles, dirnlty)\n",
    "plt.ylim(-40,0);plt.yticks([0,-10,-20,-30,-40]);\n",
    "plt.xticks(np.radians(np.arange(0,360,30)));"
   ]
  },
  {
   "cell_type": "code",
   "execution_count": null,
   "id": "economic-choir",
   "metadata": {},
   "outputs": [],
   "source": []
  }
 ],
 "metadata": {
  "kernelspec": {
   "display_name": "Python 3",
   "language": "python",
   "name": "python3"
  },
  "language_info": {
   "codemirror_mode": {
    "name": "ipython",
    "version": 3
   },
   "file_extension": ".py",
   "mimetype": "text/x-python",
   "name": "python",
   "nbconvert_exporter": "python",
   "pygments_lexer": "ipython3",
   "version": "3.8.5"
  }
 },
 "nbformat": 4,
 "nbformat_minor": 5
}
